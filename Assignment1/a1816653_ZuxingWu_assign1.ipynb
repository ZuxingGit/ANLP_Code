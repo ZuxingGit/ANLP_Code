{
 "cells": [
  {
   "cell_type": "markdown",
   "id": "6730fecf",
   "metadata": {},
   "source": [
    "## Assignment 1 \n",
    "### \\<Zuxing Wu> \\<a1816653>"
   ]
  },
  {
   "cell_type": "markdown",
   "id": "3df2aac6",
   "metadata": {},
   "source": [
    "### 1. Reading datasets"
   ]
  },
  {
   "cell_type": "code",
   "execution_count": 277,
   "id": "e967e07b",
   "metadata": {},
   "outputs": [
    {
     "data": {
      "text/html": [
       "<div>\n",
       "<style scoped>\n",
       "    .dataframe tbody tr th:only-of-type {\n",
       "        vertical-align: middle;\n",
       "    }\n",
       "\n",
       "    .dataframe tbody tr th {\n",
       "        vertical-align: top;\n",
       "    }\n",
       "\n",
       "    .dataframe thead th {\n",
       "        text-align: right;\n",
       "    }\n",
       "</style>\n",
       "<table border=\"1\" class=\"dataframe\">\n",
       "  <thead>\n",
       "    <tr style=\"text-align: right;\">\n",
       "      <th></th>\n",
       "      <th>ratings</th>\n",
       "      <th>title</th>\n",
       "      <th>text</th>\n",
       "      <th>author</th>\n",
       "      <th>date_stayed</th>\n",
       "      <th>offering_id</th>\n",
       "      <th>num_helpful_votes</th>\n",
       "      <th>date</th>\n",
       "      <th>id</th>\n",
       "      <th>via_mobile</th>\n",
       "    </tr>\n",
       "  </thead>\n",
       "  <tbody>\n",
       "    <tr>\n",
       "      <th>0</th>\n",
       "      <td>{'service': 1.0, 'cleanliness': 2.0, 'overall'...</td>\n",
       "      <td>“Horrible experience”</td>\n",
       "      <td>First of all we got there and they didn't have...</td>\n",
       "      <td>{'username': 'Kh3RD', 'num_reviews': 1, 'id': ...</td>\n",
       "      <td>September 2012</td>\n",
       "      <td>80138</td>\n",
       "      <td>0</td>\n",
       "      <td>2012-09-19</td>\n",
       "      <td>140716137</td>\n",
       "      <td>False</td>\n",
       "    </tr>\n",
       "    <tr>\n",
       "      <th>1</th>\n",
       "      <td>{'cleanliness': 1.0, 'sleep_quality': 1.0, 'ov...</td>\n",
       "      <td>“Stay Away”</td>\n",
       "      <td>Found Racist graffiti in the room. Request to ...</td>\n",
       "      <td>{'username': 'TheUglyPhotographer', 'num_citie...</td>\n",
       "      <td>June 2011</td>\n",
       "      <td>240151</td>\n",
       "      <td>1</td>\n",
       "      <td>2011-06-27</td>\n",
       "      <td>114807323</td>\n",
       "      <td>False</td>\n",
       "    </tr>\n",
       "    <tr>\n",
       "      <th>2</th>\n",
       "      <td>{'service': 4.0, 'cleanliness': 5.0, 'overall'...</td>\n",
       "      <td>“Great location and service”</td>\n",
       "      <td>Close to Union Square - hotel is a bit of a ma...</td>\n",
       "      <td>{'username': 'Moonstonemoclips', 'num_cities':...</td>\n",
       "      <td>October 2010</td>\n",
       "      <td>80793</td>\n",
       "      <td>0</td>\n",
       "      <td>2010-10-25</td>\n",
       "      <td>84805430</td>\n",
       "      <td>False</td>\n",
       "    </tr>\n",
       "    <tr>\n",
       "      <th>3</th>\n",
       "      <td>{'service': 3.0, 'cleanliness': 2.0, 'overall'...</td>\n",
       "      <td>“I will never go back here again!”</td>\n",
       "      <td>I had a bad vibe about this place from the mom...</td>\n",
       "      <td>{'username': 'JoanellenJ', 'num_cities': 10, '...</td>\n",
       "      <td>June 2012</td>\n",
       "      <td>111418</td>\n",
       "      <td>1</td>\n",
       "      <td>2012-06-28</td>\n",
       "      <td>132971117</td>\n",
       "      <td>False</td>\n",
       "    </tr>\n",
       "    <tr>\n",
       "      <th>4</th>\n",
       "      <td>{'overall': 1.0}</td>\n",
       "      <td>“Ripped off our VISA card after departure”</td>\n",
       "      <td>After we received our \"final\" bill and left th...</td>\n",
       "      <td>{'username': 'Lynnworks', 'num_cities': 3, 'nu...</td>\n",
       "      <td>January 2012</td>\n",
       "      <td>671150</td>\n",
       "      <td>3</td>\n",
       "      <td>2012-02-04</td>\n",
       "      <td>124104157</td>\n",
       "      <td>False</td>\n",
       "    </tr>\n",
       "  </tbody>\n",
       "</table>\n",
       "</div>"
      ],
      "text/plain": [
       "                                             ratings  \\\n",
       "0  {'service': 1.0, 'cleanliness': 2.0, 'overall'...   \n",
       "1  {'cleanliness': 1.0, 'sleep_quality': 1.0, 'ov...   \n",
       "2  {'service': 4.0, 'cleanliness': 5.0, 'overall'...   \n",
       "3  {'service': 3.0, 'cleanliness': 2.0, 'overall'...   \n",
       "4                                   {'overall': 1.0}   \n",
       "\n",
       "                                        title  \\\n",
       "0                       “Horrible experience”   \n",
       "1                                 “Stay Away”   \n",
       "2                “Great location and service”   \n",
       "3          “I will never go back here again!”   \n",
       "4  “Ripped off our VISA card after departure”   \n",
       "\n",
       "                                                text  \\\n",
       "0  First of all we got there and they didn't have...   \n",
       "1  Found Racist graffiti in the room. Request to ...   \n",
       "2  Close to Union Square - hotel is a bit of a ma...   \n",
       "3  I had a bad vibe about this place from the mom...   \n",
       "4  After we received our \"final\" bill and left th...   \n",
       "\n",
       "                                              author     date_stayed  \\\n",
       "0  {'username': 'Kh3RD', 'num_reviews': 1, 'id': ...  September 2012   \n",
       "1  {'username': 'TheUglyPhotographer', 'num_citie...       June 2011   \n",
       "2  {'username': 'Moonstonemoclips', 'num_cities':...    October 2010   \n",
       "3  {'username': 'JoanellenJ', 'num_cities': 10, '...       June 2012   \n",
       "4  {'username': 'Lynnworks', 'num_cities': 3, 'nu...    January 2012   \n",
       "\n",
       "   offering_id  num_helpful_votes       date         id  via_mobile  \n",
       "0        80138                  0 2012-09-19  140716137       False  \n",
       "1       240151                  1 2011-06-27  114807323       False  \n",
       "2        80793                  0 2010-10-25   84805430       False  \n",
       "3       111418                  1 2012-06-28  132971117       False  \n",
       "4       671150                  3 2012-02-04  124104157       False  "
      ]
     },
     "execution_count": 277,
     "metadata": {},
     "output_type": "execute_result"
    }
   ],
   "source": [
    "import pandas as pd\n",
    "import re\n",
    "from nltk.tokenize import word_tokenize\n",
    "import seaborn as sns\n",
    "\n",
    "# 0. Load dataset\n",
    "data = pd.read_json('random_30000_hotel_reviews.JSON', lines=True)\n",
    "data.head(5)"
   ]
  },
  {
   "cell_type": "code",
   "execution_count": 278,
   "id": "3896d85d",
   "metadata": {},
   "outputs": [
    {
     "data": {
      "text/plain": [
       "{'service': 3.0,\n",
       " 'cleanliness': 2.0,\n",
       " 'overall': 2.0,\n",
       " 'value': 1.0,\n",
       " 'location': 4.0,\n",
       " 'sleep_quality': 1.0,\n",
       " 'rooms': 1.0}"
      ]
     },
     "execution_count": 278,
     "metadata": {},
     "output_type": "execute_result"
    }
   ],
   "source": [
    "data['ratings'][3]\n",
    "# show me the structure of ratings"
   ]
  },
  {
   "cell_type": "markdown",
   "id": "cf6cab06",
   "metadata": {},
   "source": [
    "I need to extract the value of '**overall**' field"
   ]
  },
  {
   "cell_type": "code",
   "execution_count": 279,
   "id": "62a02ee3",
   "metadata": {},
   "outputs": [
    {
     "name": "stdout",
     "output_type": "stream",
     "text": [
      "1.0\n",
      "1.0\n",
      "4.0\n",
      "2.0\n",
      "1.0\n"
     ]
    }
   ],
   "source": [
    "print(data['ratings'][0]['overall'])\n",
    "print(data['ratings'][1]['overall'])\n",
    "print(data['ratings'][2]['overall'])\n",
    "print(data['ratings'][3]['overall'])\n",
    "print(data['ratings'][4]['overall'])"
   ]
  },
  {
   "cell_type": "code",
   "execution_count": 280,
   "id": "94b60d7e",
   "metadata": {},
   "outputs": [
    {
     "data": {
      "text/html": [
       "<div>\n",
       "<style scoped>\n",
       "    .dataframe tbody tr th:only-of-type {\n",
       "        vertical-align: middle;\n",
       "    }\n",
       "\n",
       "    .dataframe tbody tr th {\n",
       "        vertical-align: top;\n",
       "    }\n",
       "\n",
       "    .dataframe thead th {\n",
       "        text-align: right;\n",
       "    }\n",
       "</style>\n",
       "<table border=\"1\" class=\"dataframe\">\n",
       "  <thead>\n",
       "    <tr style=\"text-align: right;\">\n",
       "      <th></th>\n",
       "      <th>review</th>\n",
       "      <th>overall</th>\n",
       "    </tr>\n",
       "  </thead>\n",
       "  <tbody>\n",
       "    <tr>\n",
       "      <th>0</th>\n",
       "      <td>“Horrible experience” First of all we got ther...</td>\n",
       "      <td>1.0</td>\n",
       "    </tr>\n",
       "    <tr>\n",
       "      <th>1</th>\n",
       "      <td>“Stay Away” Found Racist graffiti in the room....</td>\n",
       "      <td>1.0</td>\n",
       "    </tr>\n",
       "    <tr>\n",
       "      <th>2</th>\n",
       "      <td>“Great location and service” Close to Union Sq...</td>\n",
       "      <td>4.0</td>\n",
       "    </tr>\n",
       "    <tr>\n",
       "      <th>3</th>\n",
       "      <td>“I will never go back here again!” I had a bad...</td>\n",
       "      <td>2.0</td>\n",
       "    </tr>\n",
       "    <tr>\n",
       "      <th>4</th>\n",
       "      <td>“Ripped off our VISA card after departure” Aft...</td>\n",
       "      <td>1.0</td>\n",
       "    </tr>\n",
       "    <tr>\n",
       "      <th>5</th>\n",
       "      <td>“A great location!” Steps to Grand Central, a ...</td>\n",
       "      <td>4.0</td>\n",
       "    </tr>\n",
       "    <tr>\n",
       "      <th>6</th>\n",
       "      <td>“It's all about the Location” This Hotel is lo...</td>\n",
       "      <td>3.0</td>\n",
       "    </tr>\n",
       "    <tr>\n",
       "      <th>7</th>\n",
       "      <td>“Five Star Service” I stayed with my teenage b...</td>\n",
       "      <td>5.0</td>\n",
       "    </tr>\n",
       "    <tr>\n",
       "      <th>8</th>\n",
       "      <td>“Good airport hotel in Seattle” Very good airp...</td>\n",
       "      <td>4.0</td>\n",
       "    </tr>\n",
       "    <tr>\n",
       "      <th>9</th>\n",
       "      <td>“Grand Union Hotel” Just returned from a great...</td>\n",
       "      <td>3.0</td>\n",
       "    </tr>\n",
       "  </tbody>\n",
       "</table>\n",
       "</div>"
      ],
      "text/plain": [
       "                                              review  overall\n",
       "0  “Horrible experience” First of all we got ther...      1.0\n",
       "1  “Stay Away” Found Racist graffiti in the room....      1.0\n",
       "2  “Great location and service” Close to Union Sq...      4.0\n",
       "3  “I will never go back here again!” I had a bad...      2.0\n",
       "4  “Ripped off our VISA card after departure” Aft...      1.0\n",
       "5  “A great location!” Steps to Grand Central, a ...      4.0\n",
       "6  “It's all about the Location” This Hotel is lo...      3.0\n",
       "7  “Five Star Service” I stayed with my teenage b...      5.0\n",
       "8  “Good airport hotel in Seattle” Very good airp...      4.0\n",
       "9  “Grand Union Hotel” Just returned from a great...      3.0"
      ]
     },
     "execution_count": 280,
     "metadata": {},
     "output_type": "execute_result"
    }
   ],
   "source": [
    "# 1. title + text = review\n",
    "data['review'] = data['title'] + \" \" + data['text']\n",
    "data['overall'] = data['ratings'].apply(lambda x: x['overall'])\n",
    "# print(data.columns)\n",
    "\n",
    "# 2. keep 'review', 'overall' only\n",
    "data = data[['review', 'overall']]\n",
    "# print(data.columns)\n",
    "data.head(10)"
   ]
  },
  {
   "cell_type": "code",
   "execution_count": 281,
   "id": "4b20ec5d",
   "metadata": {},
   "outputs": [
    {
     "data": {
      "text/plain": [
       "\"“It's all about the Location” This Hotel is located right in the heart of San Francisco a block away from Union Square. \\nThere is a Starbucks coffee shop attached to the hotel which was a definite plus and Cable car service right at the front door. \\nYou must remember that this hotel was built in the 1930’s and thus some things are not as “up to date” as one would like. It definitely needs some updating but has a lot of charm and very friendly staff. We were there to see the city – not sit in our room and stare at the walls.\\nBe prepared that no matter where you stay in down town, you will hear sirens from the street and of course the bells from the cable cars but you get used to it after a couple of days – its part of San Francisco. \\nThe worst part was getting our room, we had booked a king size bed but when we got to our room found a queen bed – in an adjoining room which would have been fine except we could hear the conversation of the couple in the next room as clear as if they were in our room. We went to the front desk and asked for a change, all they could offer was 2 double beds – that we could push together (we are rather tall and double beds are dwarf like for us) having not alternatle, we agreed and proceeded to move a huge dresser to push the beds together and sleep sideways – humorously at best. We went sightseeing the next day and returned to find that housekeeping had moved the beds back – we did not want to be moving furniture all week so we again asked for a change and finally we were given a corner room with a king-size bed. We were finally happy with this room and able to enjoy the rest of our stay. We felt like such a nuisance but the staff were quite nice and accommodating towards us despite our changes. \\nWhen you are there, make sure you check out the Starlight bar at the top of the hotel – drinks are crazy expensive but a worthy experience. All in all a great location in a wonderful city!\""
      ]
     },
     "execution_count": 281,
     "metadata": {},
     "output_type": "execute_result"
    }
   ],
   "source": [
    "data['review'][6]\n",
    "# rating is 3.0, looks like positive"
   ]
  },
  {
   "cell_type": "code",
   "execution_count": 282,
   "id": "18045771",
   "metadata": {},
   "outputs": [
    {
     "data": {
      "text/plain": [
       "\"“Grand Union Hotel” Just returned from a great trip to New York,We stayed at the Grand Union Hotel under the shadow of the Empire state building and literally minutes from Times Sq,Macys ,MSG,5th Ave.A perfect location . The rooms are quite small but very clean with new bathrooms and free TV .Our original room overlooked the street outside but became very cold when the temp outside only peaked at 26 degrees!!We spoke to reception who couldnt be nicer and immediately moved us to a new room which was like a sauna!Heaven! I'd wouldnt hesitate to stay at the grand union again but would wait until the weather warmed up a bit on the streets,As for New Yorkers there warm hearted enough anyway,and just add to the experience!\""
      ]
     },
     "execution_count": 282,
     "metadata": {},
     "output_type": "execute_result"
    }
   ],
   "source": [
    "data['review'][9]\n",
    "# rating is 3.0, looks like positive too"
   ]
  },
  {
   "cell_type": "markdown",
   "id": "909db1cd",
   "metadata": {},
   "source": [
    "#### I guess **positive**(overall≥3.0), **negative**(overall<3.0)"
   ]
  },
  {
   "cell_type": "code",
   "execution_count": 283,
   "id": "f272bede",
   "metadata": {},
   "outputs": [],
   "source": [
    "import warnings\n",
    "# ignore annoying warnings\n",
    "warnings.filterwarnings('ignore')\n",
    "\n",
    "# 3. split data into: train 10000 | dev 10000 | test 10000\n",
    "train_data = data.iloc[:10000]\n",
    "dev_data = data.iloc[10000:20000]\n",
    "test_data = data.iloc[20000:]\n",
    "\n",
    "# 4. remove all non-alphanumeric characters, lowercasing and tokenise the text\n",
    "#    punctuations removed from here\n",
    "dev_data['review'] = dev_data['review'].apply(lambda x: re.sub(r'[^a-zA-Z0-9\\s]', '', x).lower()).apply(lambda x: word_tokenize(x)).to_frame()"
   ]
  },
  {
   "cell_type": "markdown",
   "id": "31d75afc",
   "metadata": {},
   "source": [
    "### 2. Exploratory Data Analysis (EDA)"
   ]
  },
  {
   "cell_type": "code",
   "execution_count": 284,
   "id": "170223b9",
   "metadata": {},
   "outputs": [
    {
     "data": {
      "text/plain": [
       "(10000, 2)"
      ]
     },
     "execution_count": 284,
     "metadata": {},
     "output_type": "execute_result"
    }
   ],
   "source": [
    "dev_data.shape\n",
    "# 10000 rows, 2 column"
   ]
  },
  {
   "cell_type": "code",
   "execution_count": 285,
   "id": "13d399b4",
   "metadata": {},
   "outputs": [
    {
     "data": {
      "text/html": [
       "<div>\n",
       "<style scoped>\n",
       "    .dataframe tbody tr th:only-of-type {\n",
       "        vertical-align: middle;\n",
       "    }\n",
       "\n",
       "    .dataframe tbody tr th {\n",
       "        vertical-align: top;\n",
       "    }\n",
       "\n",
       "    .dataframe thead th {\n",
       "        text-align: right;\n",
       "    }\n",
       "</style>\n",
       "<table border=\"1\" class=\"dataframe\">\n",
       "  <thead>\n",
       "    <tr style=\"text-align: right;\">\n",
       "      <th></th>\n",
       "      <th>review</th>\n",
       "      <th>overall</th>\n",
       "    </tr>\n",
       "  </thead>\n",
       "  <tbody>\n",
       "    <tr>\n",
       "      <th>10000</th>\n",
       "      <td>[nice, hotel, great, location, this, was, a, n...</td>\n",
       "      <td>4.0</td>\n",
       "    </tr>\n",
       "    <tr>\n",
       "      <th>10001</th>\n",
       "      <td>[perfect, location, and, the, room, was, gener...</td>\n",
       "      <td>4.0</td>\n",
       "    </tr>\n",
       "    <tr>\n",
       "      <th>10002</th>\n",
       "      <td>[rude, staff, extra, charges, overall, unimpre...</td>\n",
       "      <td>2.0</td>\n",
       "    </tr>\n",
       "    <tr>\n",
       "      <th>10003</th>\n",
       "      <td>[great, location, would, stay, here, again, st...</td>\n",
       "      <td>4.0</td>\n",
       "    </tr>\n",
       "    <tr>\n",
       "      <th>10004</th>\n",
       "      <td>[disappointed, in, chicago, i, stayed, at, the...</td>\n",
       "      <td>3.0</td>\n",
       "    </tr>\n",
       "    <tr>\n",
       "      <th>10005</th>\n",
       "      <td>[great, choice, my, family, and, i, stayed, at...</td>\n",
       "      <td>5.0</td>\n",
       "    </tr>\n",
       "    <tr>\n",
       "      <th>10006</th>\n",
       "      <td>[loved, the, swissotel, i, stayed, here, back,...</td>\n",
       "      <td>5.0</td>\n",
       "    </tr>\n",
       "    <tr>\n",
       "      <th>10007</th>\n",
       "      <td>[great, hotel, pricey, but, perfect, i, travel...</td>\n",
       "      <td>5.0</td>\n",
       "    </tr>\n",
       "    <tr>\n",
       "      <th>10008</th>\n",
       "      <td>[a, great, parksleepfly, hotel, my, husband, a...</td>\n",
       "      <td>5.0</td>\n",
       "    </tr>\n",
       "    <tr>\n",
       "      <th>10009</th>\n",
       "      <td>[badly, needs, major, renovations, the, hotel,...</td>\n",
       "      <td>2.0</td>\n",
       "    </tr>\n",
       "  </tbody>\n",
       "</table>\n",
       "</div>"
      ],
      "text/plain": [
       "                                                  review  overall\n",
       "10000  [nice, hotel, great, location, this, was, a, n...      4.0\n",
       "10001  [perfect, location, and, the, room, was, gener...      4.0\n",
       "10002  [rude, staff, extra, charges, overall, unimpre...      2.0\n",
       "10003  [great, location, would, stay, here, again, st...      4.0\n",
       "10004  [disappointed, in, chicago, i, stayed, at, the...      3.0\n",
       "10005  [great, choice, my, family, and, i, stayed, at...      5.0\n",
       "10006  [loved, the, swissotel, i, stayed, here, back,...      5.0\n",
       "10007  [great, hotel, pricey, but, perfect, i, travel...      5.0\n",
       "10008  [a, great, parksleepfly, hotel, my, husband, a...      5.0\n",
       "10009  [badly, needs, major, renovations, the, hotel,...      2.0"
      ]
     },
     "execution_count": 285,
     "metadata": {},
     "output_type": "execute_result"
    }
   ],
   "source": [
    "# see first 10 rows\n",
    "dev_data.head(10)"
   ]
  },
  {
   "cell_type": "code",
   "execution_count": 286,
   "id": "fa535b29",
   "metadata": {},
   "outputs": [
    {
     "data": {
      "text/plain": [
       "19551"
      ]
     },
     "execution_count": 286,
     "metadata": {},
     "output_type": "execute_result"
    }
   ],
   "source": [
    "import random\n",
    "\n",
    "index = random.randint(10000, 10000+10000)\n",
    "index"
   ]
  },
  {
   "cell_type": "markdown",
   "id": "9303016f",
   "metadata": {},
   "source": [
    "create a random index in order to peek a random review"
   ]
  },
  {
   "cell_type": "code",
   "execution_count": 287,
   "id": "2d286790",
   "metadata": {},
   "outputs": [
    {
     "data": {
      "text/plain": [
       "['very',\n",
       " 'clean',\n",
       " 'and',\n",
       " 'comfortable',\n",
       " 'too',\n",
       " 'i',\n",
       " 'stayed',\n",
       " 'at',\n",
       " 'the',\n",
       " 'cm',\n",
       " 'cherry',\n",
       " 'creek',\n",
       " 'in',\n",
       " 'denver',\n",
       " 'for',\n",
       " '4',\n",
       " 'days',\n",
       " 'while',\n",
       " 'travelling',\n",
       " 'on',\n",
       " 'business',\n",
       " 'the',\n",
       " 'front',\n",
       " 'desk',\n",
       " 'staff',\n",
       " 'is',\n",
       " 'very',\n",
       " 'polite',\n",
       " 'and',\n",
       " 'professional',\n",
       " 'there',\n",
       " 'is',\n",
       " 'no',\n",
       " 'outside',\n",
       " 'access',\n",
       " 'to',\n",
       " 'your',\n",
       " 'rooms',\n",
       " 'you',\n",
       " 'must',\n",
       " 'pass',\n",
       " 'through',\n",
       " 'the',\n",
       " 'main',\n",
       " 'lobby',\n",
       " 'to',\n",
       " 'get',\n",
       " 'to',\n",
       " 'the',\n",
       " 'elevators',\n",
       " 'the',\n",
       " 'hotel',\n",
       " 'is',\n",
       " '100',\n",
       " 'nonsmoking',\n",
       " 'and',\n",
       " 'does',\n",
       " 'not',\n",
       " 'alllow',\n",
       " 'pets',\n",
       " 'my',\n",
       " 'room',\n",
       " 'had',\n",
       " 'a',\n",
       " 'microwave',\n",
       " 'a',\n",
       " 'refrigerator',\n",
       " 'iron',\n",
       " 'ironing',\n",
       " 'board',\n",
       " 'hair',\n",
       " 'dryer',\n",
       " 'queen',\n",
       " 'bed',\n",
       " 'a',\n",
       " 'wardrobe',\n",
       " 'for',\n",
       " 'clothes',\n",
       " 'a',\n",
       " 'nice',\n",
       " 'desk',\n",
       " 'with',\n",
       " 'plenty',\n",
       " 'of',\n",
       " 'plugs',\n",
       " 'and',\n",
       " 'lamps',\n",
       " 'a',\n",
       " 'sofa',\n",
       " 'with',\n",
       " 'living',\n",
       " 'room',\n",
       " 'table',\n",
       " 'and',\n",
       " 'a',\n",
       " 'flat',\n",
       " 'screen',\n",
       " 'tv',\n",
       " 'oh',\n",
       " 'the',\n",
       " 'alarm',\n",
       " 'clocks',\n",
       " 'even',\n",
       " 'have',\n",
       " 'the',\n",
       " 'ability',\n",
       " 'to',\n",
       " 'hook',\n",
       " 'up',\n",
       " 'to',\n",
       " 'your',\n",
       " 'ipod',\n",
       " 'the',\n",
       " 'rooms',\n",
       " 'are',\n",
       " 'very',\n",
       " 'clean',\n",
       " 'it',\n",
       " 'looks',\n",
       " 'as',\n",
       " 'though',\n",
       " 'the',\n",
       " 'hotel',\n",
       " 'was',\n",
       " 'recently',\n",
       " 'built',\n",
       " 'or',\n",
       " 'remodeled',\n",
       " 'bc',\n",
       " 'it',\n",
       " 'appears',\n",
       " 'to',\n",
       " 'be',\n",
       " 'very',\n",
       " 'clean',\n",
       " 'and',\n",
       " 'updated',\n",
       " 'the',\n",
       " 'bathrooms',\n",
       " 'were',\n",
       " 'also',\n",
       " 'very',\n",
       " 'clean',\n",
       " 'i',\n",
       " 'did',\n",
       " 'not',\n",
       " 'have',\n",
       " 'a',\n",
       " 'problem',\n",
       " 'walking',\n",
       " 'in',\n",
       " 'my',\n",
       " 'bare',\n",
       " 'feet',\n",
       " 'at',\n",
       " 'this',\n",
       " 'hotel',\n",
       " 'and',\n",
       " 'since',\n",
       " 'im',\n",
       " 'a',\n",
       " 'germaphobe',\n",
       " 'thats',\n",
       " 'pretty',\n",
       " 'amazing',\n",
       " 'the',\n",
       " 'hotel',\n",
       " 'has',\n",
       " 'a',\n",
       " 'pool',\n",
       " 'hot',\n",
       " 'tub',\n",
       " 'exercise',\n",
       " 'room',\n",
       " 'a',\n",
       " 'business',\n",
       " 'center',\n",
       " 'with',\n",
       " 'complimentary',\n",
       " 'printing',\n",
       " 'a',\n",
       " 'barrestaurant',\n",
       " 'complimentary',\n",
       " 'coffee',\n",
       " 'tea',\n",
       " 'and',\n",
       " 'cookies',\n",
       " 'in',\n",
       " 'the',\n",
       " 'afternoon',\n",
       " 'the',\n",
       " 'hotel',\n",
       " 'has',\n",
       " 'free',\n",
       " 'wifi',\n",
       " 'so',\n",
       " 'you',\n",
       " 'have',\n",
       " 'internet',\n",
       " 'access',\n",
       " 'everywhere',\n",
       " 'the',\n",
       " 'hotel',\n",
       " 'also',\n",
       " 'has',\n",
       " 'a',\n",
       " 'market',\n",
       " 'place',\n",
       " 'where',\n",
       " 'you',\n",
       " 'can',\n",
       " 'buy',\n",
       " 'frozen',\n",
       " 'dinners',\n",
       " 'ice',\n",
       " 'cream',\n",
       " 'candy',\n",
       " 'trail',\n",
       " 'mix',\n",
       " 'soda',\n",
       " 'etc',\n",
       " 'the',\n",
       " 'breakfast',\n",
       " 'is',\n",
       " 'very',\n",
       " 'good',\n",
       " 'but',\n",
       " 'pricy',\n",
       " 'at',\n",
       " 'the',\n",
       " 'restaurant',\n",
       " 'the',\n",
       " 'cold',\n",
       " 'breakfast',\n",
       " 'buffet',\n",
       " 'is',\n",
       " '9',\n",
       " 'includes',\n",
       " 'coffee',\n",
       " 'and',\n",
       " 'juice',\n",
       " 'and',\n",
       " 'the',\n",
       " 'hot',\n",
       " 'breakfast',\n",
       " 'buffet',\n",
       " 'is',\n",
       " '1295',\n",
       " 'includes',\n",
       " 'coffee',\n",
       " 'and',\n",
       " 'juice',\n",
       " 'regarding',\n",
       " 'location',\n",
       " 'the',\n",
       " 'hotel',\n",
       " 'is',\n",
       " 'located',\n",
       " 'in',\n",
       " 'a',\n",
       " 'very',\n",
       " 'commercial',\n",
       " 'area',\n",
       " 'so',\n",
       " 'there',\n",
       " 'are',\n",
       " 'a',\n",
       " 'ton',\n",
       " 'of',\n",
       " 'stores',\n",
       " 'and',\n",
       " 'a',\n",
       " 'few',\n",
       " 'places',\n",
       " 'to',\n",
       " 'eat',\n",
       " 'at',\n",
       " 'in',\n",
       " 'the',\n",
       " 'immediate',\n",
       " 'vicinity',\n",
       " 'is',\n",
       " 'black',\n",
       " 'eye',\n",
       " 'pea',\n",
       " 'hooters',\n",
       " 'and',\n",
       " 'local',\n",
       " 'asian',\n",
       " 'and',\n",
       " 'hispanic',\n",
       " 'restaurants',\n",
       " 'a',\n",
       " 'whole',\n",
       " 'foods',\n",
       " 'is',\n",
       " 'located',\n",
       " 'just',\n",
       " 'down',\n",
       " 'the',\n",
       " 'street',\n",
       " 'near',\n",
       " 'the',\n",
       " 'barnes',\n",
       " 'and',\n",
       " 'noble',\n",
       " 'and',\n",
       " 'target',\n",
       " 'the',\n",
       " 'hotel',\n",
       " 'is',\n",
       " 'about',\n",
       " '20',\n",
       " 'minutes',\n",
       " 'from',\n",
       " 'the',\n",
       " 'federal',\n",
       " 'courthouse',\n",
       " 'in',\n",
       " 'downtown',\n",
       " 'denver',\n",
       " '5',\n",
       " 'minutes',\n",
       " 'from',\n",
       " 'englewood',\n",
       " 'and',\n",
       " 'about',\n",
       " '30',\n",
       " 'minutes',\n",
       " 'from',\n",
       " 'morison',\n",
       " 'its',\n",
       " 'also',\n",
       " 'about',\n",
       " 'a',\n",
       " '30',\n",
       " 'minute',\n",
       " 'drive',\n",
       " 'from',\n",
       " 'the',\n",
       " 'denver',\n",
       " 'airport',\n",
       " 'overall',\n",
       " 'i',\n",
       " 'am',\n",
       " 'very',\n",
       " 'pleased',\n",
       " 'with',\n",
       " 'this',\n",
       " 'hotel']"
      ]
     },
     "execution_count": 287,
     "metadata": {},
     "output_type": "execute_result"
    }
   ],
   "source": [
    "# print(dev_data[index])\n",
    "sample = dev_data['review'][index]\n",
    "sample"
   ]
  },
  {
   "cell_type": "code",
   "execution_count": 288,
   "id": "00296c46",
   "metadata": {},
   "outputs": [
    {
     "data": {
      "text/plain": [
       "review     0.0\n",
       "overall    0.0\n",
       "dtype: float64"
      ]
     },
     "execution_count": 288,
     "metadata": {},
     "output_type": "execute_result"
    }
   ],
   "source": [
    "# Are there empty values?\n",
    "dev_data.isnull().sum()/len(dev_data)"
   ]
  },
  {
   "cell_type": "markdown",
   "id": "9c47a909",
   "metadata": {},
   "source": [
    "Good. No empty values."
   ]
  },
  {
   "cell_type": "code",
   "execution_count": 289,
   "id": "3e0f9717",
   "metadata": {},
   "outputs": [
    {
     "data": {
      "text/plain": [
       "<bound method NDFrame.head of                                                   review  overall\n",
       "10000  [nice, hotel, great, location, this, was, a, n...      4.0\n",
       "10001  [perfect, location, and, the, room, was, gener...      4.0\n",
       "10002  [rude, staff, extra, charges, overall, unimpre...      2.0\n",
       "10003  [great, location, would, stay, here, again, st...      4.0\n",
       "10004  [disappointed, in, chicago, i, stayed, at, the...      3.0\n",
       "...                                                  ...      ...\n",
       "19995  [excellent, hotel, one, of, the, best, hotels,...      5.0\n",
       "19996  [my, 4th, stay, and, i, love, it, the, locatio...      4.0\n",
       "19997  [amazing, we, booked, the, day, before, we, le...      5.0\n",
       "19998  [hotwire, find, very, nice, accommodation, tha...      4.0\n",
       "19999  [good, location, my, husband, and, i, were, th...      4.0\n",
       "\n",
       "[10000 rows x 2 columns]>"
      ]
     },
     "execution_count": 289,
     "metadata": {},
     "output_type": "execute_result"
    }
   ],
   "source": [
    "dev_data.head"
   ]
  },
  {
   "cell_type": "code",
   "execution_count": 290,
   "id": "4cf37c86",
   "metadata": {},
   "outputs": [],
   "source": [
    "# get rid of stopwords so that program run faster + lemmatisation\n",
    "from nltk.corpus import stopwords\n",
    "import spacy\n",
    "\n",
    "# Load the spaCy English model\n",
    "nlp = spacy.load('en_core_web_sm')\n",
    "stop_words = set(stopwords.words('english'))-{'not', 'no', 'nor', 'neither', 'never', 'none'}|{'hotel', 'room'}\n",
    "\n",
    "def clean_text(text):\n",
    "    # remove stopwords\n",
    "    tokens = [word for word in text if word.lower() not in stop_words]\n",
    "    \n",
    "    # lemmatization took too much time! (over 3 minutes) I don't need it.\n",
    "    # Lemmatize the tokens\n",
    "    # text = ' '.join(tokens)\n",
    "    # doc = nlp(text)\n",
    "    # tokens =  [token.lemma_ for token in doc]\n",
    "\n",
    "    return tokens\n",
    "    \n",
    "dev_data['review'] = dev_data['review'].apply(clean_text)"
   ]
  },
  {
   "cell_type": "code",
   "execution_count": 291,
   "id": "2bb82996",
   "metadata": {},
   "outputs": [
    {
     "data": {
      "text/html": [
       "<div>\n",
       "<style scoped>\n",
       "    .dataframe tbody tr th:only-of-type {\n",
       "        vertical-align: middle;\n",
       "    }\n",
       "\n",
       "    .dataframe tbody tr th {\n",
       "        vertical-align: top;\n",
       "    }\n",
       "\n",
       "    .dataframe thead th {\n",
       "        text-align: right;\n",
       "    }\n",
       "</style>\n",
       "<table border=\"1\" class=\"dataframe\">\n",
       "  <thead>\n",
       "    <tr style=\"text-align: right;\">\n",
       "      <th></th>\n",
       "      <th>review</th>\n",
       "      <th>overall</th>\n",
       "    </tr>\n",
       "  </thead>\n",
       "  <tbody>\n",
       "    <tr>\n",
       "      <th>10000</th>\n",
       "      <td>[nice, great, location, nice, price, got, last...</td>\n",
       "      <td>4.0</td>\n",
       "    </tr>\n",
       "    <tr>\n",
       "      <th>10001</th>\n",
       "      <td>[perfect, location, generous, size, stayed, de...</td>\n",
       "      <td>4.0</td>\n",
       "    </tr>\n",
       "    <tr>\n",
       "      <th>10002</th>\n",
       "      <td>[rude, staff, extra, charges, overall, unimpre...</td>\n",
       "      <td>2.0</td>\n",
       "    </tr>\n",
       "    <tr>\n",
       "      <th>10003</th>\n",
       "      <td>[great, location, would, stay, stayed, 3, nigh...</td>\n",
       "      <td>4.0</td>\n",
       "    </tr>\n",
       "    <tr>\n",
       "      <th>10004</th>\n",
       "      <td>[disappointed, chicago, stayed, allerton, nigh...</td>\n",
       "      <td>3.0</td>\n",
       "    </tr>\n",
       "  </tbody>\n",
       "</table>\n",
       "</div>"
      ],
      "text/plain": [
       "                                                  review  overall\n",
       "10000  [nice, great, location, nice, price, got, last...      4.0\n",
       "10001  [perfect, location, generous, size, stayed, de...      4.0\n",
       "10002  [rude, staff, extra, charges, overall, unimpre...      2.0\n",
       "10003  [great, location, would, stay, stayed, 3, nigh...      4.0\n",
       "10004  [disappointed, chicago, stayed, allerton, nigh...      3.0"
      ]
     },
     "execution_count": 291,
     "metadata": {},
     "output_type": "execute_result"
    }
   ],
   "source": [
    "dev_data.head(5)"
   ]
  },
  {
   "cell_type": "markdown",
   "id": "68b15e59",
   "metadata": {},
   "source": [
    "Here, I removed negation words from stopwords because I asked ChatGPT and its answer is:\n",
    "> **In sentiment analysis tasks, the presence of \"not\" can often reverse the sentiment of a sentence. For example, \"I am happy\" has a positive sentiment, but \"I am not happy\" has a negative sentiment.**  \n",
    "\n",
    "So I shouldn't remove them. Differently, I add **'hotel', 'room(s)'** into it because its frequence is the highest based on word frequence plot. We don't need them, seriously."
   ]
  },
  {
   "cell_type": "code",
   "execution_count": 292,
   "id": "e64956b9",
   "metadata": {},
   "outputs": [],
   "source": [
    "# join tokens as a sentence\n",
    "dev_data['review'] = dev_data['review'].apply(lambda x: ' '.join(word for word in x))"
   ]
  },
  {
   "cell_type": "code",
   "execution_count": 293,
   "id": "750f7caa",
   "metadata": {},
   "outputs": [
    {
     "data": {
      "text/html": [
       "<div>\n",
       "<style scoped>\n",
       "    .dataframe tbody tr th:only-of-type {\n",
       "        vertical-align: middle;\n",
       "    }\n",
       "\n",
       "    .dataframe tbody tr th {\n",
       "        vertical-align: top;\n",
       "    }\n",
       "\n",
       "    .dataframe thead th {\n",
       "        text-align: right;\n",
       "    }\n",
       "</style>\n",
       "<table border=\"1\" class=\"dataframe\">\n",
       "  <thead>\n",
       "    <tr style=\"text-align: right;\">\n",
       "      <th></th>\n",
       "      <th>review</th>\n",
       "      <th>overall</th>\n",
       "    </tr>\n",
       "  </thead>\n",
       "  <tbody>\n",
       "    <tr>\n",
       "      <th>10000</th>\n",
       "      <td>nice great location nice price got last minute...</td>\n",
       "      <td>4.0</td>\n",
       "    </tr>\n",
       "    <tr>\n",
       "      <th>10001</th>\n",
       "      <td>perfect location generous size stayed december...</td>\n",
       "      <td>4.0</td>\n",
       "    </tr>\n",
       "    <tr>\n",
       "      <th>10002</th>\n",
       "      <td>rude staff extra charges overall unimpressive ...</td>\n",
       "      <td>2.0</td>\n",
       "    </tr>\n",
       "    <tr>\n",
       "      <th>10003</th>\n",
       "      <td>great location would stay stayed 3 nights larg...</td>\n",
       "      <td>4.0</td>\n",
       "    </tr>\n",
       "    <tr>\n",
       "      <th>10004</th>\n",
       "      <td>disappointed chicago stayed allerton night aug...</td>\n",
       "      <td>3.0</td>\n",
       "    </tr>\n",
       "  </tbody>\n",
       "</table>\n",
       "</div>"
      ],
      "text/plain": [
       "                                                  review  overall\n",
       "10000  nice great location nice price got last minute...      4.0\n",
       "10001  perfect location generous size stayed december...      4.0\n",
       "10002  rude staff extra charges overall unimpressive ...      2.0\n",
       "10003  great location would stay stayed 3 nights larg...      4.0\n",
       "10004  disappointed chicago stayed allerton night aug...      3.0"
      ]
     },
     "execution_count": 293,
     "metadata": {},
     "output_type": "execute_result"
    }
   ],
   "source": [
    "dev_data.head()"
   ]
  },
  {
   "cell_type": "markdown",
   "id": "8513781b",
   "metadata": {},
   "source": [
    "#### distribution of \"overall\" rating"
   ]
  },
  {
   "cell_type": "code",
   "execution_count": 294,
   "id": "d54206dc",
   "metadata": {},
   "outputs": [
    {
     "data": {
      "image/png": "[encoded data removed]",
      "text/plain": [
       "<Figure size 1000x500 with 1 Axes>"
      ]
     },
     "metadata": {},
     "output_type": "display_data"
    }
   ],
   "source": [
    "from collections import Counter\n",
    "import matplotlib.pyplot as plt\n",
    "\n",
    "plt.figure(figsize=(10,5))\n",
    "total = float(len(dev_data))\n",
    "ax = sns.countplot(x=\"overall\", data=dev_data, color='DodgerBlue')\n",
    "for p in ax.patches:\n",
    "    percentage = '{:.1f}%'.format(100 * p.get_height()/total)\n",
    "    x = p.get_x() + p.get_width()/2\n",
    "    y = p.get_height()\n",
    "    ax.annotate(percentage, (x, y), ha='center')\n",
    "\n",
    "plt.title('Distribution of \"overall\" rating')\n",
    "plt.show()"
   ]
  },
  {
   "cell_type": "markdown",
   "id": "c4d871fa",
   "metadata": {},
   "source": [
    "We can see most ratings are positive(72.9%) with high scores. Now, facing this countplot, I guess :  \n",
    "overall=**1.0** and **2.0** are **negative**, overall=**4.0** and **5.0** are **positive**,  \n",
    "overall=**3.0** could be a mixture of **negative, neutural**, and **positive**. I may need to seperate them correctly."
   ]
  },
  {
   "cell_type": "code",
   "execution_count": 295,
   "id": "6a64aa00",
   "metadata": {},
   "outputs": [
    {
     "data": {
      "image/png": "[encoded data removed]",
      "text/plain": [
       "<Figure size 2000x600 with 1 Axes>"
      ]
     },
     "metadata": {},
     "output_type": "display_data"
    }
   ],
   "source": [
    "# Word frequency plots are used to visualize the most common words in a dataset.\n",
    "\n",
    "text = ' '.join(dev_data['review'])\n",
    "tokens = word_tokenize(text)\n",
    "\n",
    "word_freq = dict(Counter(tokens).most_common(26))\n",
    "\n",
    "plt.figure(figsize=(20,6))\n",
    "plt.bar(word_freq.keys(), word_freq.values())\n",
    "plt.title('Word frequency in all reviews')\n",
    "plt.show()"
   ]
  },
  {
   "cell_type": "markdown",
   "id": "10b0dfb2",
   "metadata": {},
   "source": [
    "Most mentioned entities(aspects) are: **staff, location, service, breakfast, desk, bed**.  \n",
    "Most mentioned adjectives are: **great, good, nice, clean, friendly, well, comfortable**.  \n",
    "HOWEVER, definitely positve comments accounts for 72.9%, which means the data is imbalanced."
   ]
  },
  {
   "cell_type": "code",
   "execution_count": 296,
   "id": "df8e0ff0",
   "metadata": {},
   "outputs": [
    {
     "data": {
      "image/png": "[encoded data removed]",
      "text/plain": [
       "<Figure size 2000x600 with 1 Axes>"
      ]
     },
     "metadata": {},
     "output_type": "display_data"
    }
   ],
   "source": [
    "# reviews of overall< 3.0\n",
    "text = ' '.join(dev_data[dev_data['overall']< 3.0]['review'])\n",
    "tokens = word_tokenize(text)\n",
    "\n",
    "word_freq = dict(Counter(tokens).most_common(25))\n",
    "\n",
    "plt.figure(figsize=(20,6))\n",
    "plt.bar(word_freq.keys(), word_freq.values())\n",
    "plt.title('Word frequency in reviews of overall<3.0')\n",
    "plt.show()"
   ]
  },
  {
   "cell_type": "markdown",
   "id": "c2ff9d4c",
   "metadata": {},
   "source": [
    "We can see some predictive words that make a negative review:  \n",
    "**not, no, never, didnt**"
   ]
  },
  {
   "cell_type": "code",
   "execution_count": 297,
   "id": "9ee0deff",
   "metadata": {},
   "outputs": [
    {
     "data": {
      "image/png": "[encoded data removed]",
      "text/plain": [
       "<Figure size 2000x600 with 1 Axes>"
      ]
     },
     "metadata": {},
     "output_type": "display_data"
    }
   ],
   "source": [
    "# reviews of overall> 3.0\n",
    "text = ' '.join(dev_data[dev_data['overall']> 3.0]['review'])\n",
    "tokens = word_tokenize(text)\n",
    "\n",
    "word_freq = dict(Counter(tokens).most_common(25))\n",
    "\n",
    "plt.figure(figsize=(20,6))\n",
    "plt.bar(word_freq.keys(), word_freq.values())\n",
    "plt.title('Word frequency in reviews of overall>3.0')\n",
    "plt.show()"
   ]
  },
  {
   "cell_type": "markdown",
   "id": "82e36277",
   "metadata": {},
   "source": [
    "We can see some predictive words that make a positive review:  \n",
    "**great, nice, good, clean, friendly, comfortable, well, helpful**"
   ]
  },
  {
   "cell_type": "code",
   "execution_count": 298,
   "id": "a6080388",
   "metadata": {},
   "outputs": [
    {
     "data": {
      "image/png": "[encoded data removed]",
      "text/plain": [
       "<Figure size 2000x600 with 1 Axes>"
      ]
     },
     "metadata": {},
     "output_type": "display_data"
    }
   ],
   "source": [
    "# reviews of overall= 3.0\n",
    "text = ' '.join(dev_data[dev_data['overall']> 3.0]['review'])\n",
    "tokens = word_tokenize(text)\n",
    "\n",
    "word_freq = dict(Counter(tokens).most_common(25))\n",
    "\n",
    "plt.figure(figsize=(20,6))\n",
    "plt.bar(word_freq.keys(), word_freq.values())\n",
    "plt.title('Word frequency in reviews of overall=3.0')\n",
    "plt.show()"
   ]
  },
  {
   "cell_type": "markdown",
   "id": "faee18cc",
   "metadata": {},
   "source": [
    "I thought in the range of overall=3.0, reviews would be much neutural, but it shows so many positive words appeared here.  \n",
    "I had better discard this range to better distinguish negative from positive."
   ]
  },
  {
   "cell_type": "code",
   "execution_count": 299,
   "id": "6ace4f99",
   "metadata": {},
   "outputs": [
    {
     "name": "stdout",
     "output_type": "stream",
     "text": [
      "Distribution of 3-grams:\n",
      "within walking distance: 377\n",
      "staff friendly helpful: 283\n",
      "front desk staff: 274\n",
      "would definitely stay: 260\n",
      "great place stay: 167\n",
      "would highly recommend: 134\n",
      "flat screen tv: 118\n",
      "empire state building: 111\n",
      "great location great: 106\n",
      "stayed one night: 102\n",
      "new york city: 85\n",
      "right across street: 84\n",
      "would definitely recommend: 82\n",
      "stay great location: 78\n",
      "would recommend anyone: 77\n",
      "great location stayed: 71\n",
      "stayed 3 nights: 68\n",
      "staff helpful friendly: 66\n",
      "stayed two nights: 65\n",
      "easy walking distance: 63\n"
     ]
    },
    {
     "data": {
      "image/png": "[encoded data removed]",
      "text/plain": [
       "<Figure size 2000x500 with 1 Axes>"
      ]
     },
     "metadata": {},
     "output_type": "display_data"
    }
   ],
   "source": [
    "# Identifying common N-grams: N-grams are sequences of words. Identifying common n-grams can give insight into the most common phrases in the dataset.\n",
    "\n",
    "from nltk import ngrams\n",
    "from collections import Counter\n",
    "import matplotlib.pyplot as plt\n",
    "\n",
    "# Function to generate n-grams\n",
    "def generate_ngrams(text, n):\n",
    "    n_grams = ngrams(text, n)\n",
    "    return [' '.join(gram) for gram in n_grams]\n",
    "\n",
    "# Specify the value of n for n-grams\n",
    "n_value = 3  # You can change this value to see different n-grams, e.g., 2 for bigrams, 3 for trigrams, etc.\n",
    "\n",
    "# Generate n-grams\n",
    "ngrams_list = generate_ngrams(tokens, n_value)\n",
    "\n",
    "# Count the occurrences of each n-gram\n",
    "ngrams_count = dict(Counter(ngrams_list).most_common(20))\n",
    "\n",
    "# Display the distribution\n",
    "print(f\"Distribution of {n_value}-grams:\")\n",
    "for ngram, count in ngrams_count.items():\n",
    "    print(f\"{ngram}: {count}\")\n",
    "\n",
    "# Plot the distribution\n",
    "labels, values = zip(*ngrams_count.items())\n",
    "indexes = range(len(labels))\n",
    "\n",
    "plt.figure(figsize=(20,5))\n",
    "plt.bar(indexes, values)\n",
    "plt.xlabel(f'{n_value}-grams')\n",
    "plt.ylabel('Frequency')\n",
    "plt.xticks(indexes, labels, rotation='vertical')\n",
    "plt.title(f'Distribution of {n_value}-grams')\n",
    "plt.show()"
   ]
  },
  {
   "cell_type": "markdown",
   "id": "3ac3ac1f",
   "metadata": {},
   "source": [
    "So, we can see most customers really care the **location/distance, staff/front desk**.  \n",
    "They are also willing to recommend this hotel to others."
   ]
  },
  {
   "cell_type": "markdown",
   "id": "5ad87d5c",
   "metadata": {},
   "source": [
    "#### number of unique words"
   ]
  },
  {
   "cell_type": "code",
   "execution_count": 300,
   "id": "98ebc526",
   "metadata": {},
   "outputs": [
    {
     "name": "stdout",
     "output_type": "stream",
     "text": [
      "['000' '0030' '01' ... 'zoos' 'zro' 'zucchini']\n",
      "Number of unique words: 32573\n"
     ]
    }
   ],
   "source": [
    "# Bag-of-Words: Bag-of-Words (BoW) is a representation of text as a bag (multiset) of its words, disregarding grammar \n",
    "# and even word order but keeping multiplicity. \n",
    "# It is one of the most common feature engineering techniques used in NLP.\n",
    "\n",
    "from sklearn.feature_extraction.text import CountVectorizer\n",
    "\n",
    "corpus = dev_data['review']\n",
    "\n",
    "vectorizer = CountVectorizer()\n",
    "# Fit and transform the corpus\n",
    "bow = vectorizer.fit_transform(corpus)\n",
    "# Get the vocabulary (unique words)\n",
    "vocab = vectorizer.get_feature_names_out()\n",
    "print(vocab)\n",
    "print(f\"Number of unique words: {vocab.size}\") # 32573"
   ]
  },
  {
   "cell_type": "markdown",
   "id": "1beb4316",
   "metadata": {},
   "source": [
    "#### check sentiment for dev_data"
   ]
  },
  {
   "cell_type": "code",
   "execution_count": 301,
   "id": "f7400040",
   "metadata": {},
   "outputs": [
    {
     "data": {
      "text/html": [
       "<div>\n",
       "<style scoped>\n",
       "    .dataframe tbody tr th:only-of-type {\n",
       "        vertical-align: middle;\n",
       "    }\n",
       "\n",
       "    .dataframe tbody tr th {\n",
       "        vertical-align: top;\n",
       "    }\n",
       "\n",
       "    .dataframe thead th {\n",
       "        text-align: right;\n",
       "    }\n",
       "</style>\n",
       "<table border=\"1\" class=\"dataframe\">\n",
       "  <thead>\n",
       "    <tr style=\"text-align: right;\">\n",
       "      <th></th>\n",
       "      <th>review</th>\n",
       "      <th>overall</th>\n",
       "    </tr>\n",
       "  </thead>\n",
       "  <tbody>\n",
       "    <tr>\n",
       "      <th>10000</th>\n",
       "      <td>nice great location nice price got last minute...</td>\n",
       "      <td>4.0</td>\n",
       "    </tr>\n",
       "    <tr>\n",
       "      <th>10001</th>\n",
       "      <td>perfect location generous size stayed december...</td>\n",
       "      <td>4.0</td>\n",
       "    </tr>\n",
       "    <tr>\n",
       "      <th>10002</th>\n",
       "      <td>rude staff extra charges overall unimpressive ...</td>\n",
       "      <td>2.0</td>\n",
       "    </tr>\n",
       "    <tr>\n",
       "      <th>10003</th>\n",
       "      <td>great location would stay stayed 3 nights larg...</td>\n",
       "      <td>4.0</td>\n",
       "    </tr>\n",
       "    <tr>\n",
       "      <th>10004</th>\n",
       "      <td>disappointed chicago stayed allerton night aug...</td>\n",
       "      <td>3.0</td>\n",
       "    </tr>\n",
       "    <tr>\n",
       "      <th>10005</th>\n",
       "      <td>great choice family stayed pearl may 2428 well...</td>\n",
       "      <td>5.0</td>\n",
       "    </tr>\n",
       "    <tr>\n",
       "      <th>10006</th>\n",
       "      <td>loved swissotel stayed back november 2004 serv...</td>\n",
       "      <td>5.0</td>\n",
       "    </tr>\n",
       "    <tr>\n",
       "      <th>10007</th>\n",
       "      <td>great pricey perfect travel 50 days per year s...</td>\n",
       "      <td>5.0</td>\n",
       "    </tr>\n",
       "    <tr>\n",
       "      <th>10008</th>\n",
       "      <td>great parksleepfly husband chose parksleepfly ...</td>\n",
       "      <td>5.0</td>\n",
       "    </tr>\n",
       "    <tr>\n",
       "      <th>10009</th>\n",
       "      <td>badly needs major renovations badly need major...</td>\n",
       "      <td>2.0</td>\n",
       "    </tr>\n",
       "  </tbody>\n",
       "</table>\n",
       "</div>"
      ],
      "text/plain": [
       "                                                  review  overall\n",
       "10000  nice great location nice price got last minute...      4.0\n",
       "10001  perfect location generous size stayed december...      4.0\n",
       "10002  rude staff extra charges overall unimpressive ...      2.0\n",
       "10003  great location would stay stayed 3 nights larg...      4.0\n",
       "10004  disappointed chicago stayed allerton night aug...      3.0\n",
       "10005  great choice family stayed pearl may 2428 well...      5.0\n",
       "10006  loved swissotel stayed back november 2004 serv...      5.0\n",
       "10007  great pricey perfect travel 50 days per year s...      5.0\n",
       "10008  great parksleepfly husband chose parksleepfly ...      5.0\n",
       "10009  badly needs major renovations badly need major...      2.0"
      ]
     },
     "execution_count": 301,
     "metadata": {},
     "output_type": "execute_result"
    }
   ],
   "source": [
    "dev_data.head(10)\n",
    "# peek the data format and structure. too lazy to scroll up"
   ]
  },
  {
   "cell_type": "markdown",
   "id": "235b1c9b",
   "metadata": {},
   "source": [
    "The 10002, 10009 reviews seem negative. Is it the same as VADER?"
   ]
  },
  {
   "cell_type": "code",
   "execution_count": 302,
   "id": "8fb42579",
   "metadata": {},
   "outputs": [
    {
     "data": {
      "text/plain": [
       "{'neg': 0.0, 'neu': 1.0, 'pos': 0.0, 'compound': 0.0}"
      ]
     },
     "execution_count": 302,
     "metadata": {},
     "output_type": "execute_result"
    }
   ],
   "source": [
    "from nltk.sentiment.vader import SentimentIntensityAnalyzer\n",
    "\n",
    "sia = SentimentIntensityAnalyzer()\n",
    "sia.polarity_scores('not')"
   ]
  },
  {
   "cell_type": "markdown",
   "id": "3497e31f",
   "metadata": {},
   "source": [
    "Why is 'not' classified into **neutural**? Ok, I read the code from example.py. I saw:\n",
    "\n",
    "    \"if score['pos'] > score['neg'] :\n",
    "        print(text+\": \"+\"VADER positive\")\n",
    "    else:\n",
    "        print(text+\": \"+\"VADER negative\")\"\n",
    "By handling like this, I can put 'not' into **negative**"
   ]
  },
  {
   "cell_type": "code",
   "execution_count": 303,
   "id": "ffcdf9f1",
   "metadata": {},
   "outputs": [
    {
     "name": "stdout",
     "output_type": "stream",
     "text": [
      "rude staff extra charges overall unimpressive traveled big group wedding weekend 16th immediately upon checkin man front desk lazy uninterested every little question regarding reservation seemed bother woman rude looked us like scum horrible booked nonsmoking coaxing got move us joey nice later problems overcharging like completely different person definitely not good way good clean bar staff much fun spent lot time manager great remembered us joked us truly nice experience buzz bartender sweet also left card never closed tab yikes no problem mailing way colorado even saw woman front desk go bar shift drinks seemed capable kindness spared none us guests nice overrall seemed little sad really enjoyed 8ft deep pool hot tub got home however charged us 2 rooms even though stayed one 6 mysterious 100 dollar charges front desk people still havent figured wasnt bar staff would rate place terrible\n",
      "{'neg': 0.211, 'neu': 0.565, 'pos': 0.224, 'compound': 0.6677}\n"
     ]
    }
   ],
   "source": [
    "# a piece of review with overall = 2.0\n",
    "text = dev_data['review'][10002]\n",
    "print(text)\n",
    "print(sia.polarity_scores(text))"
   ]
  },
  {
   "cell_type": "markdown",
   "id": "e171e1a3",
   "metadata": {},
   "source": [
    "P(neutural)= 0.565，it's more likely neutural according to VADER. While the compound score shows it's positive. Personally I doubt this result.\n",
    "Then I found the raw review of this row, and analysis it again."
   ]
  },
  {
   "cell_type": "code",
   "execution_count": 304,
   "id": "72f5c3ee",
   "metadata": {},
   "outputs": [
    {
     "data": {
      "text/plain": [
       "{'neg': 0.116, 'neu': 0.693, 'pos': 0.191, 'compound': 0.9874}"
      ]
     },
     "execution_count": 304,
     "metadata": {},
     "output_type": "execute_result"
    }
   ],
   "source": [
    "# a piece of review with overall = 2.0\n",
    "text = \"Rude staff, extra charges, overall unimpressive We traveled here with a big group for a wedding the weekend of the 16th. Immediately upon check-in the man at the front desk was lazy, uninterested and every little question regarding the reservation seemed to bother him. The woman was SO rude. She looked at us like we were scum, it was horrible. We had been booked into a non-smoking room and after some coaxing we got him to move us. Joey was nice but later when we had problems with overcharging it was like a completely different person. Definitely not in a good way. \\nGood: The room was clean and the bar staff was SO much fun. We spent a lot of time in there and the manager was so great. He remembered us and joked with us, that was a truly nice experience. Buzz the bartender is so sweet also. I left my card there (never closed my tab! Yikes!) and they had no problem mailing it to me ALL the way in Colorado). I even saw the woman from Front Desk go into the bar after her shift for a few drinks and she seemed very capable of kindness then but spared none for us guests.\\nThe hotel is nice overrall but seemed a little sad. Really enjoyed the 8ft deep pool and hot tub. When we got home however, they had charged us for 2 rooms even though we only stayed in one and there were 6 other mysterious 100+ dollar charges which the Front Desk people still haven't been figured out. If it wasn't for the bar and it's staff, I would rate this place as Terrible\"\n",
    "sia.polarity_scores(text)"
   ]
  },
  {
   "cell_type": "markdown",
   "id": "72dfecce",
   "metadata": {},
   "source": [
    "The reason of this might be: somebody gave a generally positive review while gave a negative overall rating: overall = 2.0 or 1.0. And also, 'pos'>'neg' here.  \n",
    "BUT, after double check, I found the positve part of this review is about the bar and satff. As the customer said(the last sentence):\n",
    "\n",
    "    >If it wasn't for the bar and it's staff, I would rate this place as Terrible.  \n",
    "Therefore it is positive.  \n",
    "Check agnain. Is it positive? I feel the customer wanted to say this place is not terrible thanks to its bar and staff, but it is seriously bad."
   ]
  },
  {
   "cell_type": "code",
   "execution_count": 305,
   "id": "12d2174d",
   "metadata": {},
   "outputs": [
    {
     "name": "stdout",
     "output_type": "stream",
     "text": [
      "badly needs major renovations badly need major renovation carpet indeed threadbare furniture appliances old outdated carpet dirty noisy location well bell staff friendly helpful despite would not stay\n",
      "{'neg': 0.271, 'neu': 0.526, 'pos': 0.203, 'compound': -0.4019}\n"
     ]
    }
   ],
   "source": [
    "# a piece of review with overall = 2.0\n",
    "text = dev_data['review'][10009]\n",
    "print(text)\n",
    "print(sia.polarity_scores(text))"
   ]
  },
  {
   "cell_type": "markdown",
   "id": "4570ee2a",
   "metadata": {},
   "source": [
    "The compound score shows this is negative. Then, I found the raw text of it:  \n",
    "\n",
    "    \"The hotel is badly in need of a major renovation. The carpet in my room was indeed threadbare and the furniture and appliances are old and outdated. The carpet in the room was dirty. It is in a very noisy location as well. The bell staff was very friendly and helpful. Despite this I would not stay here again.\"\n",
    "It's negative indeed."
   ]
  },
  {
   "cell_type": "code",
   "execution_count": 306,
   "id": "ac9d0e2b",
   "metadata": {},
   "outputs": [
    {
     "name": "stdout",
     "output_type": "stream",
     "text": [
      "disappointed chicago stayed allerton night august 8 lived chicago looking forward stay historic somewhat disappointed size although older hotels smaller rooms bathroom sheer curtain window bit surprised elevators five slow seemed take long time catch elevator going worst part traffic huron entrance huron not michigan took 45 minutes get car valet 1115 also large hospital ambulances going hours location excellent saves would not stay\n",
      "{'neg': 0.139, 'neu': 0.785, 'pos': 0.076, 'compound': -0.6908}\n"
     ]
    }
   ],
   "source": [
    "# a piece of review with overall = 3.0\n",
    "text = dev_data['review'][10004]\n",
    "print(text)\n",
    "print(sia.polarity_scores(text))"
   ]
  },
  {
   "cell_type": "markdown",
   "id": "2e19f103",
   "metadata": {},
   "source": [
    "I think I should discard all samples that are overall=3.0. As I guessed before, this type is ambiguous.  \n",
    "Reviews in this type can be negative, netural and positive."
   ]
  },
  {
   "cell_type": "markdown",
   "id": "333cefa8",
   "metadata": {},
   "source": [
    "### 3. Preprocessing"
   ]
  },
  {
   "cell_type": "code",
   "execution_count": 307,
   "id": "20677719",
   "metadata": {},
   "outputs": [
    {
     "data": {
      "text/plain": [
       "array([1., 2., 3., 4., 5.])"
      ]
     },
     "execution_count": 307,
     "metadata": {},
     "output_type": "execute_result"
    }
   ],
   "source": [
    "import numpy as np\n",
    "\n",
    "np.unique(dev_data['overall'])\n",
    "# 1.0 ~ 5.0"
   ]
  },
  {
   "cell_type": "code",
   "execution_count": 308,
   "id": "de927d54",
   "metadata": {},
   "outputs": [
    {
     "name": "stdout",
     "output_type": "stream",
     "text": [
      "<class 'pandas.core.frame.DataFrame'>\n",
      "RangeIndex: 10000 entries, 10000 to 19999\n",
      "Data columns (total 2 columns):\n",
      " #   Column   Non-Null Count  Dtype  \n",
      "---  ------   --------------  -----  \n",
      " 0   review   10000 non-null  object \n",
      " 1   overall  10000 non-null  float64\n",
      "dtypes: float64(1), object(1)\n",
      "memory usage: 156.4+ KB\n"
     ]
    }
   ],
   "source": [
    "dev_data.info()"
   ]
  },
  {
   "cell_type": "code",
   "execution_count": 309,
   "id": "c292820d",
   "metadata": {},
   "outputs": [
    {
     "data": {
      "text/plain": [
       "sentiment\n",
       "0    1356\n",
       "1    7291\n",
       "dtype: int64"
      ]
     },
     "execution_count": 309,
     "metadata": {},
     "output_type": "execute_result"
    }
   ],
   "source": [
    "# pick overall<3.0 data as negative, overall>3.0 data as positive from dev_data\n",
    "dev_data_final = dev_data[dev_data['overall']!=3.0]\n",
    "dev_data_final['sentiment'] = np.where(dev_data_final['overall'] < 3.0, 0, 1)\n",
    "\n",
    "dev_data_final.groupby('sentiment').size()"
   ]
  },
  {
   "cell_type": "markdown",
   "id": "10439194",
   "metadata": {},
   "source": [
    "Now, 8647 rows left(1356 negative, 7291 positive, imbalanced)"
   ]
  },
  {
   "cell_type": "code",
   "execution_count": 310,
   "id": "1d76225e",
   "metadata": {},
   "outputs": [],
   "source": [
    "# devided dev_data into train, test\n",
    "from sklearn.model_selection import train_test_split\n",
    "from sklearn.feature_extraction.text import TfidfVectorizer, CountVectorizer\n",
    "from sklearn.linear_model import LogisticRegression, LinearRegression\n",
    "from sklearn.naive_bayes import MultinomialNB\n",
    "from sklearn.svm import SVC\n",
    "from sklearn.ensemble import RandomForestClassifier\n",
    "from sklearn.neighbors import KNeighborsClassifier\n",
    "from sklearn.neural_network import MLPClassifier\n",
    "from sklearn.metrics import accuracy_score, f1_score, classification_report\n",
    "from sklearn.model_selection import cross_val_score\n",
    "\n",
    "# Split the data into train 70% and test sets 30%\n",
    "X_train, X_test, y_train, y_test = train_test_split(dev_data_final[\"review\"], dev_data_final[\"sentiment\"], test_size=0.3, random_state=42)\n",
    "\n",
    "# Vectorize the text using TF-IDF default parameters\n",
    "vectorizer = TfidfVectorizer()\n",
    "# vectorizer = CountVectorizer(lowercase=True, token_pattern='[a-zA-Z0-9@#$%_]{2,}', max_features=None)\n",
    "X_train = vectorizer.fit_transform(X_train)\n",
    "X_test = vectorizer.transform(X_test)"
   ]
  },
  {
   "cell_type": "markdown",
   "id": "067cebcf",
   "metadata": {},
   "source": [
    "### 4. Selecting supervised method for sentiment classification"
   ]
  },
  {
   "cell_type": "code",
   "execution_count": 311,
   "id": "23c816a9",
   "metadata": {},
   "outputs": [
    {
     "name": "stdout",
     "output_type": "stream",
     "text": [
      "LinearRegression:\n",
      "Accuracy: 0.4713429924574866\n",
      "Test score: 0.4217572681488183\n",
      "----------------------------------------------\n",
      "Random Forest:\n",
      "Accuracy: 0.8907822600441861\n",
      "Test score: 0.9017341040462428\n",
      "----------------------------------------------\n",
      "Multinomial Naive Bayes:\n",
      "Accuracy: 0.8408788151542428\n",
      "Test score: 0.8524084778420039\n",
      "----------------------------------------------\n",
      "SVM:\n",
      "Accuracy: 0.9553877205902408\n",
      "Test score: 0.9595375722543352\n"
     ]
    }
   ],
   "source": [
    "# Train a LinearRegression classifier\n",
    "lr = LinearRegression()\n",
    "lr_accuracy = cross_val_score(lr, X_train, y_train, cv=10)\n",
    "lr.fit(X_train, y_train)\n",
    "\n",
    "# Train a Random Forest Classifier\n",
    "rf = RandomForestClassifier(n_estimators=100, max_depth=None, random_state=42)\n",
    "rf_accuracy = cross_val_score(rf, X_train, y_train, cv=10)\n",
    "rf.fit(X_train, y_train)\n",
    "\n",
    "# Train a Multinomial Naive Bayes classifier default parameters\n",
    "mnb = MultinomialNB()\n",
    "mnb_accuracy = cross_val_score(mnb, X_train, y_train, cv=10)\n",
    "mnb.fit(X_train, y_train)\n",
    "\n",
    "# Train a SVM classifier kernel and C=1\n",
    "svm = SVC(kernel=\"linear\", C=1)\n",
    "svm_accuracy = cross_val_score(svm, X_train, y_train, cv=10)\n",
    "svm.fit(X_train, y_train)\n",
    "\n",
    "# Train a K-NN classifier\n",
    "knn = KNeighborsClassifier(n_neighbors=5)\n",
    "knn_accuracy = cross_val_score(knn, X_train, y_train, cv=10)\n",
    "knn.fit(X_train, y_train)\n",
    "\n",
    "# Train a Multilayer Perceptron (MLP) classifier\n",
    "mlp = MLPClassifier(hidden_layer_sizes=(100, 50), activation='relu', solver='adam', random_state=42)\n",
    "mlp_accuracy = cross_val_score(mlp, X_train, y_train, cv=10)\n",
    "mlp.fit(X_train, y_train)\n",
    "\n",
    "# Evaluate the models on the test set\n",
    "# y_pred_mnb = mnb.predict(X_test)\n",
    "# y_pred_svm = svm.predict(X_test)\n",
    "\n",
    "print(\"LinearRegression:\")\n",
    "print(\"Accuracy:\", np.mean(lr_accuracy))\n",
    "print(\"Test score:\", lr.score(X_test, y_test))\n",
    "print('----------------------------------------------')\n",
    "print(\"Random Forest:\")\n",
    "print(\"Accuracy:\", np.mean(rf_accuracy))\n",
    "print(\"Test score:\", rf.score(X_test, y_test))\n",
    "print('----------------------------------------------')\n",
    "print(\"Multinomial Naive Bayes:\")\n",
    "print(\"Accuracy:\", np.mean(mnb_accuracy))\n",
    "print(\"Test score:\", mnb.score(X_test, y_test))\n",
    "print('----------------------------------------------')\n",
    "print(\"SVM:\")\n",
    "print(\"Accuracy:\", np.mean(svm_accuracy))\n",
    "print(\"Test score:\", svm.score(X_test, y_test))\n",
    "# print('----------------------------------------------')\n",
    "# print(\"k-NN:\")\n",
    "# print(\"Accuracy:\", np.mean(knn_accuracy))\n",
    "# print(\"Test score:\", knn.score(X_test, y_test))\n",
    "# print('----------------------------------------------')\n",
    "# print(\"MLP:\")\n",
    "# print(\"Accuracy:\", np.mean(mlp_accuracy))\n",
    "# print(\"Test score:\", mlp.score(X_test, y_test))\n",
    "\n",
    "# I commented k-NN,MLP because it takes me too long to get their scores, more than 10mins"
   ]
  },
  {
   "cell_type": "markdown",
   "id": "f3870141",
   "metadata": {},
   "source": [
    "SVM:  \n",
    "Accuracy: 0.9553877205902408  \n",
    "Test score: 0.9595375722543352  \n",
    "Seems **SVM** is a little bit better than others."
   ]
  },
  {
   "cell_type": "code",
   "execution_count": 312,
   "id": "9c8c541a",
   "metadata": {},
   "outputs": [],
   "source": [
    "best_estimator = svm"
   ]
  },
  {
   "cell_type": "markdown",
   "id": "333ba5cb",
   "metadata": {},
   "source": [
    "### 5. Sentiment classification using VADER lexicon and method"
   ]
  },
  {
   "cell_type": "code",
   "execution_count": 313,
   "id": "dad04e4b",
   "metadata": {},
   "outputs": [
    {
     "data": {
      "text/html": [
       "<div>\n",
       "<style scoped>\n",
       "    .dataframe tbody tr th:only-of-type {\n",
       "        vertical-align: middle;\n",
       "    }\n",
       "\n",
       "    .dataframe tbody tr th {\n",
       "        vertical-align: top;\n",
       "    }\n",
       "\n",
       "    .dataframe thead th {\n",
       "        text-align: right;\n",
       "    }\n",
       "</style>\n",
       "<table border=\"1\" class=\"dataframe\">\n",
       "  <thead>\n",
       "    <tr style=\"text-align: right;\">\n",
       "      <th></th>\n",
       "      <th>review</th>\n",
       "      <th>overall</th>\n",
       "    </tr>\n",
       "  </thead>\n",
       "  <tbody>\n",
       "    <tr>\n",
       "      <th>10000</th>\n",
       "      <td>nice great location nice price got last minute...</td>\n",
       "      <td>4.0</td>\n",
       "    </tr>\n",
       "    <tr>\n",
       "      <th>10001</th>\n",
       "      <td>perfect location generous size stayed december...</td>\n",
       "      <td>4.0</td>\n",
       "    </tr>\n",
       "    <tr>\n",
       "      <th>10002</th>\n",
       "      <td>rude staff extra charges overall unimpressive ...</td>\n",
       "      <td>2.0</td>\n",
       "    </tr>\n",
       "    <tr>\n",
       "      <th>10003</th>\n",
       "      <td>great location would stay stayed 3 nights larg...</td>\n",
       "      <td>4.0</td>\n",
       "    </tr>\n",
       "    <tr>\n",
       "      <th>10004</th>\n",
       "      <td>disappointed chicago stayed allerton night aug...</td>\n",
       "      <td>3.0</td>\n",
       "    </tr>\n",
       "    <tr>\n",
       "      <th>10005</th>\n",
       "      <td>great choice family stayed pearl may 2428 well...</td>\n",
       "      <td>5.0</td>\n",
       "    </tr>\n",
       "    <tr>\n",
       "      <th>10006</th>\n",
       "      <td>loved swissotel stayed back november 2004 serv...</td>\n",
       "      <td>5.0</td>\n",
       "    </tr>\n",
       "    <tr>\n",
       "      <th>10007</th>\n",
       "      <td>great pricey perfect travel 50 days per year s...</td>\n",
       "      <td>5.0</td>\n",
       "    </tr>\n",
       "    <tr>\n",
       "      <th>10008</th>\n",
       "      <td>great parksleepfly husband chose parksleepfly ...</td>\n",
       "      <td>5.0</td>\n",
       "    </tr>\n",
       "    <tr>\n",
       "      <th>10009</th>\n",
       "      <td>badly needs major renovations badly need major...</td>\n",
       "      <td>2.0</td>\n",
       "    </tr>\n",
       "  </tbody>\n",
       "</table>\n",
       "</div>"
      ],
      "text/plain": [
       "                                                  review  overall\n",
       "10000  nice great location nice price got last minute...      4.0\n",
       "10001  perfect location generous size stayed december...      4.0\n",
       "10002  rude staff extra charges overall unimpressive ...      2.0\n",
       "10003  great location would stay stayed 3 nights larg...      4.0\n",
       "10004  disappointed chicago stayed allerton night aug...      3.0\n",
       "10005  great choice family stayed pearl may 2428 well...      5.0\n",
       "10006  loved swissotel stayed back november 2004 serv...      5.0\n",
       "10007  great pricey perfect travel 50 days per year s...      5.0\n",
       "10008  great parksleepfly husband chose parksleepfly ...      5.0\n",
       "10009  badly needs major renovations badly need major...      2.0"
      ]
     },
     "execution_count": 313,
     "metadata": {},
     "output_type": "execute_result"
    }
   ],
   "source": [
    "dev_data.head(10)"
   ]
  },
  {
   "cell_type": "code",
   "execution_count": 314,
   "id": "58a6ebe4",
   "metadata": {},
   "outputs": [
    {
     "data": {
      "text/html": [
       "<div>\n",
       "<style scoped>\n",
       "    .dataframe tbody tr th:only-of-type {\n",
       "        vertical-align: middle;\n",
       "    }\n",
       "\n",
       "    .dataframe tbody tr th {\n",
       "        vertical-align: top;\n",
       "    }\n",
       "\n",
       "    .dataframe thead th {\n",
       "        text-align: right;\n",
       "    }\n",
       "</style>\n",
       "<table border=\"1\" class=\"dataframe\">\n",
       "  <thead>\n",
       "    <tr style=\"text-align: right;\">\n",
       "      <th></th>\n",
       "      <th>review</th>\n",
       "      <th>overall</th>\n",
       "      <th>vader_prediction</th>\n",
       "    </tr>\n",
       "  </thead>\n",
       "  <tbody>\n",
       "    <tr>\n",
       "      <th>10000</th>\n",
       "      <td>nice great location nice price got last minute...</td>\n",
       "      <td>4.0</td>\n",
       "      <td>1</td>\n",
       "    </tr>\n",
       "    <tr>\n",
       "      <th>10001</th>\n",
       "      <td>perfect location generous size stayed december...</td>\n",
       "      <td>4.0</td>\n",
       "      <td>1</td>\n",
       "    </tr>\n",
       "    <tr>\n",
       "      <th>10002</th>\n",
       "      <td>rude staff extra charges overall unimpressive ...</td>\n",
       "      <td>2.0</td>\n",
       "      <td>1</td>\n",
       "    </tr>\n",
       "    <tr>\n",
       "      <th>10003</th>\n",
       "      <td>great location would stay stayed 3 nights larg...</td>\n",
       "      <td>4.0</td>\n",
       "      <td>1</td>\n",
       "    </tr>\n",
       "    <tr>\n",
       "      <th>10004</th>\n",
       "      <td>disappointed chicago stayed allerton night aug...</td>\n",
       "      <td>3.0</td>\n",
       "      <td>0</td>\n",
       "    </tr>\n",
       "    <tr>\n",
       "      <th>10005</th>\n",
       "      <td>great choice family stayed pearl may 2428 well...</td>\n",
       "      <td>5.0</td>\n",
       "      <td>1</td>\n",
       "    </tr>\n",
       "    <tr>\n",
       "      <th>10006</th>\n",
       "      <td>loved swissotel stayed back november 2004 serv...</td>\n",
       "      <td>5.0</td>\n",
       "      <td>1</td>\n",
       "    </tr>\n",
       "    <tr>\n",
       "      <th>10007</th>\n",
       "      <td>great pricey perfect travel 50 days per year s...</td>\n",
       "      <td>5.0</td>\n",
       "      <td>1</td>\n",
       "    </tr>\n",
       "    <tr>\n",
       "      <th>10008</th>\n",
       "      <td>great parksleepfly husband chose parksleepfly ...</td>\n",
       "      <td>5.0</td>\n",
       "      <td>1</td>\n",
       "    </tr>\n",
       "    <tr>\n",
       "      <th>10009</th>\n",
       "      <td>badly needs major renovations badly need major...</td>\n",
       "      <td>2.0</td>\n",
       "      <td>0</td>\n",
       "    </tr>\n",
       "  </tbody>\n",
       "</table>\n",
       "</div>"
      ],
      "text/plain": [
       "                                                  review  overall  \\\n",
       "10000  nice great location nice price got last minute...      4.0   \n",
       "10001  perfect location generous size stayed december...      4.0   \n",
       "10002  rude staff extra charges overall unimpressive ...      2.0   \n",
       "10003  great location would stay stayed 3 nights larg...      4.0   \n",
       "10004  disappointed chicago stayed allerton night aug...      3.0   \n",
       "10005  great choice family stayed pearl may 2428 well...      5.0   \n",
       "10006  loved swissotel stayed back november 2004 serv...      5.0   \n",
       "10007  great pricey perfect travel 50 days per year s...      5.0   \n",
       "10008  great parksleepfly husband chose parksleepfly ...      5.0   \n",
       "10009  badly needs major renovations badly need major...      2.0   \n",
       "\n",
       "       vader_prediction  \n",
       "10000                 1  \n",
       "10001                 1  \n",
       "10002                 1  \n",
       "10003                 1  \n",
       "10004                 0  \n",
       "10005                 1  \n",
       "10006                 1  \n",
       "10007                 1  \n",
       "10008                 1  \n",
       "10009                 0  "
      ]
     },
     "execution_count": 314,
     "metadata": {},
     "output_type": "execute_result"
    }
   ],
   "source": [
    "# define a function for sentiment prediction using VADER lexicon\n",
    "def vader_predict(text):\n",
    "    score = sia.polarity_scores(text)\n",
    "    if score['pos'] > score['neg']:\n",
    "        return 1\n",
    "    else:\n",
    "        return 0\n",
    "\n",
    "dev_data['vader_prediction'] = dev_data['review'].apply(vader_predict)\n",
    "dev_data.head(10)"
   ]
  },
  {
   "cell_type": "markdown",
   "id": "5d9f0f12",
   "metadata": {},
   "source": [
    "Oh, only the 10002 one is dfferent from VADER's result in first 10 rows."
   ]
  },
  {
   "cell_type": "code",
   "execution_count": 315,
   "id": "5cdebf8d",
   "metadata": {},
   "outputs": [
    {
     "name": "stdout",
     "output_type": "stream",
     "text": [
      "My model predicted: 10000\n",
      "VADER predicted: 10000\n",
      "My model similarity rate compared with VADER: 0.901\n"
     ]
    }
   ],
   "source": [
    "# compare results of VADER and my best estimator\n",
    "# all dev_data, including overall=3.0\n",
    "x_dev_data = vectorizer.transform(dev_data[\"review\"])\n",
    "y_predict = best_estimator.predict(x_dev_data)\n",
    "y_vader = dev_data['vader_prediction']\n",
    "\n",
    "print(f\"My model predicted: {len(y_predict)}\")\n",
    "print(f\"VADER predicted: {len(y_vader)}\")\n",
    "print(f\"My model similarity rate compared with VADER: {sum(y_predict==y_vader)/len(y_vader)}\")"
   ]
  },
  {
   "cell_type": "markdown",
   "id": "51c644ea",
   "metadata": {},
   "source": [
    "Looks good. The reason of the slight difference: The trainnning sample cannot be the same as VADER.  \n",
    "Some customers wrote a negative review and gave a high overall score.  \n",
    "Some customers wrote a positive review and gave a low overall score.  \n",
    "It's a subjective thing."
   ]
  },
  {
   "cell_type": "markdown",
   "id": "ba7ea3a2",
   "metadata": {},
   "source": [
    "### 6. Combining VADER with the best classifier"
   ]
  },
  {
   "cell_type": "markdown",
   "id": "dea4f956",
   "metadata": {},
   "source": [
    "I think VADER is good enough as a standard for calibrating my model. Before trainning, I just treat data using this strategy: negative(overall<3.0), postive(overall>3.0), which means I didn't make use of the middle part(overall=3.0).  \n",
    "Now, I need to ajust some samples sentiment value based on VADER's. This time I use all data in dev_data.  \n",
    "I might as well use VADER's sentiment values for training!"
   ]
  },
  {
   "cell_type": "code",
   "execution_count": 316,
   "id": "99cf2087",
   "metadata": {},
   "outputs": [
    {
     "name": "stdout",
     "output_type": "stream",
     "text": [
      "Best_estimator:\n",
      "Accuracy: 0.9301428571428572\n",
      "Test score: 0.9253333333333333\n"
     ]
    }
   ],
   "source": [
    "# all review data + VADER's sentiment values\n",
    "dev_data_final = dev_data\n",
    "# Split the data into train 70% and test sets 30%\n",
    "X_train, X_test, y_train, y_test = train_test_split(dev_data_final[\"review\"], dev_data_final[\"vader_prediction\"], test_size=0.3, random_state=42)\n",
    "\n",
    "# Vectorize the text using TF-IDF default parameters\n",
    "vectorizer = TfidfVectorizer()\n",
    "# vectorizer = CountVectorizer(lowercase=True, token_pattern='[a-zA-Z0-9@#$%_]{2,}', max_features=None)\n",
    "X_train = vectorizer.fit_transform(X_train)\n",
    "X_test = vectorizer.transform(X_test)\n",
    "\n",
    "# Train a best_estimator classifier\n",
    "svm_accuracy = cross_val_score(best_estimator, X_train, y_train, cv=10)\n",
    "best_estimator.fit(X_train, y_train)\n",
    "\n",
    "print(\"Best_estimator:\")\n",
    "print(\"Accuracy:\", np.mean(svm_accuracy))\n",
    "print(\"Test score:\", best_estimator.score(X_test, y_test))"
   ]
  },
  {
   "cell_type": "code",
   "execution_count": 317,
   "id": "279632fb",
   "metadata": {},
   "outputs": [
    {
     "name": "stdout",
     "output_type": "stream",
     "text": [
      "My model predicted: 10000\n",
      "VADER predicted: 10000\n",
      "My model similarity rate compared with VADER: 0.9671\n"
     ]
    }
   ],
   "source": [
    "# comapre new model's result with VADER\n",
    "x_dev_data = vectorizer.transform(dev_data[\"review\"])\n",
    "y_predict = best_estimator.predict(x_dev_data)\n",
    "\n",
    "print(f\"My model predicted: {len(y_predict)}\")\n",
    "print(f\"VADER predicted: {len(y_vader)}\")\n",
    "print(f\"My model similarity rate compared with VADER: {sum(y_predict==y_vader)/len(y_vader)}\")"
   ]
  },
  {
   "cell_type": "markdown",
   "id": "df3f6a8b",
   "metadata": {},
   "source": [
    "Previous similarity rate is: 0.901. Now it has been improved to 0.9671. Good."
   ]
  },
  {
   "cell_type": "code",
   "execution_count": 318,
   "id": "22ff341f",
   "metadata": {},
   "outputs": [
    {
     "name": "stdout",
     "output_type": "stream",
     "text": [
      "great price dc within walking distance national mall great place clean nice staff site restaurant good well typically dont like restaurants try avoid went time short time didnt want go far nice little mile id say white house little national mall\n",
      "positive\n"
     ]
    }
   ],
   "source": [
    "# check a random review and its sentiment prediction by my model\n",
    "index = random.randint(0, 10000)\n",
    "\n",
    "print(dev_data['review'][index+10000])\n",
    "print('positive' if y_predict[index]==1 else 'negative')\n"
   ]
  },
  {
   "cell_type": "markdown",
   "id": "23d3d17f",
   "metadata": {},
   "source": [
    "### 7. Trainig and testing the final method"
   ]
  },
  {
   "cell_type": "markdown",
   "id": "65e6bbe2",
   "metadata": {},
   "source": [
    "#### To preprocess the training/test sets"
   ]
  },
  {
   "cell_type": "code",
   "execution_count": 319,
   "id": "3d4dae7f",
   "metadata": {},
   "outputs": [],
   "source": [
    "# 4. remove all non-alphanumeric characters, lowercasing and tokenise the text\n",
    "#    punctuations removed from here\n",
    "train_data['review'] = train_data['review'].apply(lambda x: re.sub(r'[^a-zA-Z0-9\\s]', '', x).lower()).apply(lambda x: word_tokenize(x)).to_frame()\n",
    "test_data['review'] = test_data['review'].apply(lambda x: re.sub(r'[^a-zA-Z0-9\\s]', '', x).lower()).apply(lambda x: word_tokenize(x)).to_frame()"
   ]
  },
  {
   "cell_type": "code",
   "execution_count": 320,
   "id": "5cfbb264",
   "metadata": {},
   "outputs": [
    {
     "name": "stdout",
     "output_type": "stream",
     "text": [
      "train_data:\n",
      "review     0.0\n",
      "overall    0.0\n",
      "dtype: float64\n",
      "test_data:\n",
      "review     0.0\n",
      "overall    0.0\n",
      "dtype: float64\n"
     ]
    }
   ],
   "source": [
    "# Are there empty values?\n",
    "print('train_data:')\n",
    "print(train_data.isnull().sum()/len(train_data))\n",
    "print('test_data:')\n",
    "print(test_data.isnull().sum()/len(test_data))"
   ]
  },
  {
   "cell_type": "code",
   "execution_count": 321,
   "id": "4de0d661",
   "metadata": {},
   "outputs": [],
   "source": [
    "# clean and transform reviews\n",
    "train_data['review'] = train_data['review'].apply(clean_text).apply(lambda x: ' '.join(word for word in x))\n",
    "\n",
    "test_data['review'] = test_data['review'].apply(clean_text).apply(lambda x: ' '.join(word for word in x))"
   ]
  },
  {
   "cell_type": "code",
   "execution_count": 322,
   "id": "76e82540",
   "metadata": {},
   "outputs": [
    {
     "data": {
      "text/html": [
       "<div>\n",
       "<style scoped>\n",
       "    .dataframe tbody tr th:only-of-type {\n",
       "        vertical-align: middle;\n",
       "    }\n",
       "\n",
       "    .dataframe tbody tr th {\n",
       "        vertical-align: top;\n",
       "    }\n",
       "\n",
       "    .dataframe thead th {\n",
       "        text-align: right;\n",
       "    }\n",
       "</style>\n",
       "<table border=\"1\" class=\"dataframe\">\n",
       "  <thead>\n",
       "    <tr style=\"text-align: right;\">\n",
       "      <th></th>\n",
       "      <th>review</th>\n",
       "      <th>overall</th>\n",
       "    </tr>\n",
       "  </thead>\n",
       "  <tbody>\n",
       "    <tr>\n",
       "      <th>0</th>\n",
       "      <td>horrible experience first got didnt booked not...</td>\n",
       "      <td>1.0</td>\n",
       "    </tr>\n",
       "    <tr>\n",
       "      <th>1</th>\n",
       "      <td>stay away found racist graffiti request change...</td>\n",
       "      <td>1.0</td>\n",
       "    </tr>\n",
       "    <tr>\n",
       "      <th>2</th>\n",
       "      <td>great location service close union square bit ...</td>\n",
       "      <td>4.0</td>\n",
       "    </tr>\n",
       "    <tr>\n",
       "      <th>3</th>\n",
       "      <td>never go back bad vibe place moment walked mai...</td>\n",
       "      <td>2.0</td>\n",
       "    </tr>\n",
       "    <tr>\n",
       "      <th>4</th>\n",
       "      <td>ripped visa card departure received final bill...</td>\n",
       "      <td>1.0</td>\n",
       "    </tr>\n",
       "  </tbody>\n",
       "</table>\n",
       "</div>"
      ],
      "text/plain": [
       "                                              review  overall\n",
       "0  horrible experience first got didnt booked not...      1.0\n",
       "1  stay away found racist graffiti request change...      1.0\n",
       "2  great location service close union square bit ...      4.0\n",
       "3  never go back bad vibe place moment walked mai...      2.0\n",
       "4  ripped visa card departure received final bill...      1.0"
      ]
     },
     "execution_count": 322,
     "metadata": {},
     "output_type": "execute_result"
    }
   ],
   "source": [
    "train_data.head(5)"
   ]
  },
  {
   "cell_type": "code",
   "execution_count": 323,
   "id": "afa1fdd5",
   "metadata": {},
   "outputs": [
    {
     "data": {
      "text/html": [
       "<div>\n",
       "<style scoped>\n",
       "    .dataframe tbody tr th:only-of-type {\n",
       "        vertical-align: middle;\n",
       "    }\n",
       "\n",
       "    .dataframe tbody tr th {\n",
       "        vertical-align: top;\n",
       "    }\n",
       "\n",
       "    .dataframe thead th {\n",
       "        text-align: right;\n",
       "    }\n",
       "</style>\n",
       "<table border=\"1\" class=\"dataframe\">\n",
       "  <thead>\n",
       "    <tr style=\"text-align: right;\">\n",
       "      <th></th>\n",
       "      <th>review</th>\n",
       "      <th>overall</th>\n",
       "    </tr>\n",
       "  </thead>\n",
       "  <tbody>\n",
       "    <tr>\n",
       "      <th>20000</th>\n",
       "      <td>great stay comfortable downsides even though d...</td>\n",
       "      <td>4.0</td>\n",
       "    </tr>\n",
       "    <tr>\n",
       "      <th>20001</th>\n",
       "      <td>nice place really nice 2 br2 bath suite great ...</td>\n",
       "      <td>5.0</td>\n",
       "    </tr>\n",
       "    <tr>\n",
       "      <th>20002</th>\n",
       "      <td>tip top new york number occasions im fairly kn...</td>\n",
       "      <td>4.0</td>\n",
       "    </tr>\n",
       "    <tr>\n",
       "      <th>20003</th>\n",
       "      <td>great locationrough sleep price location one b...</td>\n",
       "      <td>4.0</td>\n",
       "    </tr>\n",
       "    <tr>\n",
       "      <th>20004</th>\n",
       "      <td>compact cool midtown read mainly positive revi...</td>\n",
       "      <td>4.0</td>\n",
       "    </tr>\n",
       "  </tbody>\n",
       "</table>\n",
       "</div>"
      ],
      "text/plain": [
       "                                                  review  overall\n",
       "20000  great stay comfortable downsides even though d...      4.0\n",
       "20001  nice place really nice 2 br2 bath suite great ...      5.0\n",
       "20002  tip top new york number occasions im fairly kn...      4.0\n",
       "20003  great locationrough sleep price location one b...      4.0\n",
       "20004  compact cool midtown read mainly positive revi...      4.0"
      ]
     },
     "execution_count": 323,
     "metadata": {},
     "output_type": "execute_result"
    }
   ],
   "source": [
    "test_data.head(5)"
   ]
  },
  {
   "cell_type": "code",
   "execution_count": 324,
   "id": "9e46f06c",
   "metadata": {},
   "outputs": [
    {
     "name": "stdout",
     "output_type": "stream",
     "text": [
      "[1. 2. 3. 4. 5.]\n",
      "[0. 1. 2. 3. 4. 5.]\n"
     ]
    }
   ],
   "source": [
    "print(np.unique(train_data['overall']))\n",
    "print(np.unique(test_data['overall']))"
   ]
  },
  {
   "cell_type": "markdown",
   "id": "41d3b125",
   "metadata": {},
   "source": [
    "Why is there 0 in test_data? How many are there 0.0 score ratings?"
   ]
  },
  {
   "cell_type": "code",
   "execution_count": 325,
   "id": "9bab32b0",
   "metadata": {},
   "outputs": [
    {
     "name": "stdout",
     "output_type": "stream",
     "text": [
      "1\n",
      "perfect location large stayed two weeks best location right pier 39 lots things around area restaurants sight seeing staff friendly great service come back\n"
     ]
    }
   ],
   "source": [
    "print(test_data[test_data['overall']==0.0]['review'].count())\n",
    "print(test_data[test_data['overall']==0.0]['review'][29960])\n",
    "# 29960 is its ID"
   ]
  },
  {
   "cell_type": "markdown",
   "id": "a0aa5535",
   "metadata": {},
   "source": [
    "Only one zero score rating. Besides, it seems positive."
   ]
  },
  {
   "cell_type": "code",
   "execution_count": 326,
   "id": "5b0d5624",
   "metadata": {},
   "outputs": [],
   "source": [
    "train_data['vader_prediction'] = train_data['review'].apply(vader_predict)\n",
    "test_data['vader_prediction'] = test_data['review'].apply(vader_predict)"
   ]
  },
  {
   "cell_type": "code",
   "execution_count": 327,
   "id": "0a9c4f14",
   "metadata": {},
   "outputs": [
    {
     "data": {
      "text/html": [
       "<div>\n",
       "<style scoped>\n",
       "    .dataframe tbody tr th:only-of-type {\n",
       "        vertical-align: middle;\n",
       "    }\n",
       "\n",
       "    .dataframe tbody tr th {\n",
       "        vertical-align: top;\n",
       "    }\n",
       "\n",
       "    .dataframe thead th {\n",
       "        text-align: right;\n",
       "    }\n",
       "</style>\n",
       "<table border=\"1\" class=\"dataframe\">\n",
       "  <thead>\n",
       "    <tr style=\"text-align: right;\">\n",
       "      <th></th>\n",
       "      <th>review</th>\n",
       "      <th>overall</th>\n",
       "      <th>vader_prediction</th>\n",
       "    </tr>\n",
       "  </thead>\n",
       "  <tbody>\n",
       "    <tr>\n",
       "      <th>0</th>\n",
       "      <td>horrible experience first got didnt booked not...</td>\n",
       "      <td>1.0</td>\n",
       "      <td>0</td>\n",
       "    </tr>\n",
       "    <tr>\n",
       "      <th>1</th>\n",
       "      <td>stay away found racist graffiti request change...</td>\n",
       "      <td>1.0</td>\n",
       "      <td>0</td>\n",
       "    </tr>\n",
       "    <tr>\n",
       "      <th>2</th>\n",
       "      <td>great location service close union square bit ...</td>\n",
       "      <td>4.0</td>\n",
       "      <td>1</td>\n",
       "    </tr>\n",
       "    <tr>\n",
       "      <th>3</th>\n",
       "      <td>never go back bad vibe place moment walked mai...</td>\n",
       "      <td>2.0</td>\n",
       "      <td>1</td>\n",
       "    </tr>\n",
       "    <tr>\n",
       "      <th>4</th>\n",
       "      <td>ripped visa card departure received final bill...</td>\n",
       "      <td>1.0</td>\n",
       "      <td>1</td>\n",
       "    </tr>\n",
       "  </tbody>\n",
       "</table>\n",
       "</div>"
      ],
      "text/plain": [
       "                                              review  overall  \\\n",
       "0  horrible experience first got didnt booked not...      1.0   \n",
       "1  stay away found racist graffiti request change...      1.0   \n",
       "2  great location service close union square bit ...      4.0   \n",
       "3  never go back bad vibe place moment walked mai...      2.0   \n",
       "4  ripped visa card departure received final bill...      1.0   \n",
       "\n",
       "   vader_prediction  \n",
       "0                 0  \n",
       "1                 0  \n",
       "2                 1  \n",
       "3                 1  \n",
       "4                 1  "
      ]
     },
     "execution_count": 327,
     "metadata": {},
     "output_type": "execute_result"
    }
   ],
   "source": [
    "train_data.head()"
   ]
  },
  {
   "cell_type": "markdown",
   "id": "6d963eea",
   "metadata": {},
   "source": [
    "The 3rd, 4th row looks wired."
   ]
  },
  {
   "cell_type": "code",
   "execution_count": 328,
   "id": "1ab49e9d",
   "metadata": {},
   "outputs": [
    {
     "name": "stdout",
     "output_type": "stream",
     "text": [
      "“I will never go back here again!” I had a bad vibe about this place from the moment I walked in. The main lobby had very dim lighting, probably to cover up the fatigue of the place. We paid for a King suite and were supposed to get a free upgrade to a deluxe king because I had clicked on a facebook link when I made the reservations on the hotel website. The first room we were given was very big but very bare as it was poorly furnished. The room had no view at all. When we complained they supposedly upgraded us to a street view room which was much smaller, and had a queen size bed, not a king as we had expected. Instead of complaining again we decided just to deal with it. My issues with the room were the following: the bed was right at the door to the room and there was only one nightstand. The television was at the far side of the room, too far for comfortable viewing. There were no comfortable chairs (just a desk chair). There was a wet spot on the rug which of course I only noticed after I put my clean socks on. The bathroom was tiny and narrow. If you opted to leave the door open so as not to feel closed in, you would be unable to reach the toilet paper which was on the wall behind the open door. Very strange arrangement. That night the work on the street started just as we put our heads on the pillow. We called the desk to complain about this hoping for another room so we would be able to sleep. We were told there was nothing available but were given a free buffet breakfast. Thank goodness it was free because it certainly wasn't worth $25 per person. This hotel was overpriced and in need up some upgrading. I would never recommend this hotel.\n",
      "--------------------------------------\n",
      "“Ripped off our VISA card after departure” After we received our \"final\" bill and left the Empire, they assessed another $60 charge on our credit card. Called accounting and sent email to ask for justification; no response. Have asked our credit card company to withhold payment.\n"
     ]
    }
   ],
   "source": [
    "print(data['review'][3])\n",
    "print('--------------------------------------')\n",
    "print(data['review'][4])"
   ]
  },
  {
   "cell_type": "markdown",
   "id": "a2a11e7b",
   "metadata": {},
   "source": [
    "These two reviews can't be positive(overall=2.0, 1.0). Why does VADER think they are positve(1)."
   ]
  },
  {
   "cell_type": "code",
   "execution_count": 329,
   "id": "c2c401dd",
   "metadata": {},
   "outputs": [
    {
     "data": {
      "text/html": [
       "<div>\n",
       "<style scoped>\n",
       "    .dataframe tbody tr th:only-of-type {\n",
       "        vertical-align: middle;\n",
       "    }\n",
       "\n",
       "    .dataframe tbody tr th {\n",
       "        vertical-align: top;\n",
       "    }\n",
       "\n",
       "    .dataframe thead th {\n",
       "        text-align: right;\n",
       "    }\n",
       "</style>\n",
       "<table border=\"1\" class=\"dataframe\">\n",
       "  <thead>\n",
       "    <tr style=\"text-align: right;\">\n",
       "      <th></th>\n",
       "      <th>review</th>\n",
       "      <th>overall</th>\n",
       "      <th>vader_prediction</th>\n",
       "    </tr>\n",
       "  </thead>\n",
       "  <tbody>\n",
       "    <tr>\n",
       "      <th>20000</th>\n",
       "      <td>great stay comfortable downsides even though d...</td>\n",
       "      <td>4.0</td>\n",
       "      <td>1</td>\n",
       "    </tr>\n",
       "    <tr>\n",
       "      <th>20001</th>\n",
       "      <td>nice place really nice 2 br2 bath suite great ...</td>\n",
       "      <td>5.0</td>\n",
       "      <td>1</td>\n",
       "    </tr>\n",
       "    <tr>\n",
       "      <th>20002</th>\n",
       "      <td>tip top new york number occasions im fairly kn...</td>\n",
       "      <td>4.0</td>\n",
       "      <td>1</td>\n",
       "    </tr>\n",
       "    <tr>\n",
       "      <th>20003</th>\n",
       "      <td>great locationrough sleep price location one b...</td>\n",
       "      <td>4.0</td>\n",
       "      <td>1</td>\n",
       "    </tr>\n",
       "    <tr>\n",
       "      <th>20004</th>\n",
       "      <td>compact cool midtown read mainly positive revi...</td>\n",
       "      <td>4.0</td>\n",
       "      <td>1</td>\n",
       "    </tr>\n",
       "  </tbody>\n",
       "</table>\n",
       "</div>"
      ],
      "text/plain": [
       "                                                  review  overall  \\\n",
       "20000  great stay comfortable downsides even though d...      4.0   \n",
       "20001  nice place really nice 2 br2 bath suite great ...      5.0   \n",
       "20002  tip top new york number occasions im fairly kn...      4.0   \n",
       "20003  great locationrough sleep price location one b...      4.0   \n",
       "20004  compact cool midtown read mainly positive revi...      4.0   \n",
       "\n",
       "       vader_prediction  \n",
       "20000                 1  \n",
       "20001                 1  \n",
       "20002                 1  \n",
       "20003                 1  \n",
       "20004                 1  "
      ]
     },
     "execution_count": 329,
     "metadata": {},
     "output_type": "execute_result"
    }
   ],
   "source": [
    "test_data.head()"
   ]
  },
  {
   "cell_type": "markdown",
   "id": "54f0770c",
   "metadata": {},
   "source": [
    "Seems ok."
   ]
  },
  {
   "cell_type": "code",
   "execution_count": 330,
   "id": "729e9259",
   "metadata": {},
   "outputs": [
    {
     "name": "stdout",
     "output_type": "stream",
     "text": [
      "Best_estimator:\n",
      "Accuracy: 0.9343999999999999\n",
      "Test score: 0.9322\n"
     ]
    }
   ],
   "source": [
    "X_train_data = train_data['review']\n",
    "y_train_data = train_data['vader_prediction']\n",
    "X_test_data = test_data['review']\n",
    "y_test_data = test_data['vader_prediction']\n",
    "\n",
    "# Vectorize the text using TF-IDF default parameters\n",
    "vectorizer = TfidfVectorizer()\n",
    "# vectorizer = CountVectorizer(lowercase=True, token_pattern='[a-zA-Z0-9@#$%_]{2,}', max_features=None)\n",
    "X_train_data = vectorizer.fit_transform(X_train_data)\n",
    "X_test_data = vectorizer.transform(X_test_data)\n",
    "\n",
    "svm_accuracy = cross_val_score(best_estimator, X_train_data, y_train_data, cv=10)\n",
    "best_estimator.fit(X_train_data, y_train_data)\n",
    "print(\"Best_estimator:\")\n",
    "print(\"Accuracy:\", np.mean(svm_accuracy))\n",
    "print(\"Test score:\", best_estimator.score(X_test_data, y_test_data))"
   ]
  },
  {
   "cell_type": "code",
   "execution_count": 331,
   "id": "b1b94267",
   "metadata": {},
   "outputs": [
    {
     "name": "stdout",
     "output_type": "stream",
     "text": [
      "My model predicted: 10000\n",
      "VADER predicted: 10000\n",
      "My model similarity rate compared with VADER: 0.8403\n"
     ]
    }
   ],
   "source": [
    "# comapre new model's result with VADER\n",
    "# x_dev_data = vectorizer.transform(dev_data[\"review\"])\n",
    "y_predict_data = best_estimator.predict(X_test_data)\n",
    "\n",
    "print(f\"My model predicted: {len(y_predict_data)}\")\n",
    "print(f\"VADER predicted: {len(y_test_data)}\")\n",
    "print(f\"My model similarity rate compared with VADER: {sum(y_predict==y_test_data)/len(y_test_data)}\")\n",
    "# similarity rate=0.8043 not high, but acceptable"
   ]
  },
  {
   "cell_type": "markdown",
   "id": "e8993010",
   "metadata": {},
   "source": [
    "### 8. Reviews aspect prediction"
   ]
  },
  {
   "cell_type": "markdown",
   "id": "dcfc0347",
   "metadata": {},
   "source": [
    "There could be some correlations between ratings of each aspects and reviews. We can use reviews to predict the rating score for a specific aspect. The fact is not every review mentioned every aspect about the hotel living experience. So, we can't use reviews that didn't mention service to train/test our model for service ratings prediction. We need to select informative and useful samples for train and test of the prediction model.  \n",
    "We might need to train more than one models for these aspects' rating. Different aspects may fit in different models and thus have a relatively better prediction accuracy."
   ]
  },
  {
   "cell_type": "markdown",
   "id": "af38d9fc",
   "metadata": {},
   "source": [
    "### 9. References"
   ]
  }
 ],
 "metadata": {
  "kernelspec": {
   "display_name": "Python 3 (ipykernel)",
   "language": "python",
   "name": "python3"
  },
  "language_info": {
   "codemirror_mode": {
    "name": "ipython",
    "version": 3
   },
   "file_extension": ".py",
   "mimetype": "text/x-python",
   "name": "python",
   "nbconvert_exporter": "python",
   "pygments_lexer": "ipython3",
   "version": "3.9.19"
  }
 },
 "nbformat": 4,
 "nbformat_minor": 5
}
