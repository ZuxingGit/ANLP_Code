{
 "cells": [
  {
   "cell_type": "code",
   "execution_count": null,
   "metadata": {},
   "outputs": [],
   "source": [
    "# Calculator by Python\n",
    "\n",
    "def add(x, y):\n",
    "    return x + y\n",
    "\n",
    "def subtract(x, y):\n",
    "    return x - y\n",
    "\n",
    "def multiply(x, y):\n",
    "    return x * y\n",
    "\n",
    "def divide(x, y):\n",
    "    if y == 0:\n",
    "        return \"Error: Division by zero\"\n",
    "    return x / y"
   ]
  },
  {
   "cell_type": "code",
   "execution_count": null,
   "metadata": {},
   "outputs": [],
   "source": [
    "# log function\n",
    "def log(x, y):\n",
    "    if x <= 0 or y <= 0:\n",
    "        return \"Error: Logarithm of non-positive number\"\n",
    "    return log(x, y)\n",
    "\n",
    "# power function\n",
    "def power(x, y):\n",
    "    return x ** y\n",
    "\n",
    "# square root function\n",
    "def sqrt(x):\n",
    "    if x < 0:\n",
    "        return \"Error: Square root of negative number\"\n",
    "    return x ** 0.5\n",
    "\n",
    "# cube root function\n",
    "def cbrt(x):\n",
    "    return x ** (1/3)\n",
    "\n",
    "# factorial function\n",
    "def factorial(x):\n",
    "    if x < 0:\n",
    "        return \"Error: Factorial of negative number\"\n",
    "    if x == 0:\n",
    "        return 1\n",
    "    return x * factorial(x - 1)"
   ]
  },
  {
   "cell_type": "code",
   "execution_count": null,
   "metadata": {},
   "outputs": [],
   "source": [
    "import math\n",
    "\n",
    "# sin, cos, tan functions\n",
    "def sin(x):\n",
    "    return math.sin(x)\n",
    "\n",
    "def cos(x):\n",
    "    return math.cos(x)\n",
    "\n",
    "def tan(x):\n",
    "    return math.tan(x)"
   ]
  },
  {
   "cell_type": "code",
   "execution_count": null,
   "metadata": {},
   "outputs": [],
   "source": []
  }
 ],
 "metadata": {
  "language_info": {
   "name": "python"
  }
 },
 "nbformat": 4,
 "nbformat_minor": 2
}
