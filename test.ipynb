{
 "cells": [
  {
   "cell_type": "code",
   "execution_count": 2,
   "metadata": {},
   "outputs": [
    {
     "name": "stdout",
     "output_type": "stream",
     "text": [
      "my friend called me when my phone was charging i charge my phone everyday\n"
     ]
    }
   ],
   "source": [
    "text=\"My friend called me when my phone was charging I charge my phone everyday\"\n",
    "text = text.lower()\n",
    "print(text)"
   ]
  },
  {
   "cell_type": "code",
   "execution_count": 3,
   "metadata": {},
   "outputs": [
    {
     "name": "stdout",
     "output_type": "stream",
     "text": [
      "Original Text: my friend called me when my phone was charging i charge my phone everyday\n",
      "Stemmed Text: my friend call me when my phone wa charg i charg my phone everyday\n"
     ]
    }
   ],
   "source": [
    "from nltk.stem import PorterStemmer\n",
    "\n",
    "stemmer = PorterStemmer()\n",
    "\n",
    "# Define a sample text\n",
    "tokens = text.split()\n",
    "\n",
    "stemmed_text = ' '.join([stemmer.stem(token) for token in tokens])\n",
    "print(\"Original Text:\", text)\n",
    "print(\"Stemmed Text:\", stemmed_text)"
   ]
  },
  {
   "cell_type": "code",
   "execution_count": 4,
   "metadata": {},
   "outputs": [
    {
     "name": "stdout",
     "output_type": "stream",
     "text": [
      "my: VADER neutral\n",
      "friend: VADER positive\n",
      "called: VADER neutral\n",
      "me: VADER neutral\n",
      "when: VADER neutral\n",
      "my: VADER neutral\n",
      "phone: VADER neutral\n",
      "was: VADER neutral\n",
      "charging: VADER neutral\n",
      "sadness: VADER negative\n",
      "fantastic: VADER positive\n",
      "enemy: VADER negative\n"
     ]
    }
   ],
   "source": [
    "# import nltk\n",
    "# nltk.download('vader_lexicon')\n",
    "\n",
    "from nltk.sentiment.vader import SentimentIntensityAnalyzer \n",
    "from nltk.tokenize import word_tokenize\n",
    "# analyse with VADER\n",
    "analyser = SentimentIntensityAnalyzer()\n",
    "text_data=\"my friend called me when my phone was charging sadness fantastic enemy\"\n",
    "text_data = word_tokenize(text_data)\n",
    "for text in text_data:\n",
    "    score = analyser.polarity_scores(text) \n",
    "    if score['compound'] >= 0.05:\n",
    "        print(text+\": \"+\"VADER positive\") \n",
    "    elif score['compound'] <= -0.05:\n",
    "        print(text+\": \"+\"VADER negative\") \n",
    "    else:\n",
    "        print(text+\": \"+\"VADER neutral\")"
   ]
  },
  {
   "cell_type": "code",
   "execution_count": 5,
   "metadata": {},
   "outputs": [
    {
     "name": "stdout",
     "output_type": "stream",
     "text": [
      "Mr Bean ORG\n",
      "20% PERCENT\n"
     ]
    }
   ],
   "source": [
    "import pandas as pd \n",
    "import spacy \n",
    "import requests \n",
    "from bs4 import BeautifulSoup\n",
    "nlp = spacy.load(\"en_core_web_sm\")\n",
    "pd.set_option(\"display.max_rows\", 200)\n",
    "\n",
    "content = \"living room, king, 11/11/2011, Mr Bean, 20%, equator\"\n",
    " \n",
    "doc = nlp(content)\n",
    " \n",
    "for ent in doc.ents:\n",
    "    print(ent.text, ent.label_)"
   ]
  },
  {
   "cell_type": "code",
   "execution_count": 8,
   "metadata": {},
   "outputs": [
    {
     "name": "stdout",
     "output_type": "stream",
     "text": [
      "Bean PERSON\n",
      "20% PERCENT\n"
     ]
    }
   ],
   "source": [
    "import spacy\n",
    "from spacy import displacy\n",
    "\n",
    "NER = spacy.load(\"en_core_web_sm\")\n",
    "\n",
    "raw_text=[\"living room\", \"king\", \"11/11/2011\", \"Mr Bean\", \"20%\", \"equator\"]\n",
    "# text1 = NER(raw_text)\n",
    "\n",
    "for element in raw_text:\n",
    "    for word in NER(element).ents:\n",
    "        print(word, word.label_)"
   ]
  },
  {
   "cell_type": "code",
   "execution_count": null,
   "metadata": {},
   "outputs": [
    {
     "name": "stdout",
     "output_type": "stream",
     "text": [
      "11/11/2011 DATE\n",
      "Mr Bean ORG\n",
      "20% PERCENT\n"
     ]
    }
   ],
   "source": [
    "import spacy\n",
    "\n",
    "nlp=spacy.load(\"en_core_web_sm\")\n",
    "\n",
    "text = \"living room; king; 11/11/2011; Mr Bean; 20%; equator;\"\n",
    "\n",
    "doc = nlp(text)\n",
    "for ent in doc.ents:\n",
    "    print(ent, ent.label_)"
   ]
  },
  {
   "cell_type": "code",
   "execution_count": 1,
   "metadata": {},
   "outputs": [
    {
     "name": "stdout",
     "output_type": "stream",
     "text": [
      "Some text with a URL:  and another URL: \n"
     ]
    }
   ],
   "source": [
    "import re\n",
    "\n",
    "text = \"Some text with a URL: https://example.com and another URL: http://another.com\"\n",
    "\n",
    "text = re.sub(r\"http\\S+\", \"\", text)\n",
    "print(text)"
   ]
  }
 ],
 "metadata": {
  "kernelspec": {
   "display_name": "Python 3",
   "language": "python",
   "name": "python3"
  },
  "language_info": {
   "codemirror_mode": {
    "name": "ipython",
    "version": 3
   },
   "file_extension": ".py",
   "mimetype": "text/x-python",
   "name": "python",
   "nbconvert_exporter": "python",
   "pygments_lexer": "ipython3",
   "version": "3.9.18"
  }
 },
 "nbformat": 4,
 "nbformat_minor": 2
}
