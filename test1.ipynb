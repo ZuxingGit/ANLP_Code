{
 "cells": [
  {
   "cell_type": "code",
   "execution_count": 13,
   "metadata": {},
   "outputs": [
    {
     "name": "stdout",
     "output_type": "stream",
     "text": [
      "[My sister: [My sister, She], a dog: [a dog, him]]\n",
      "John has been working for XYZ company for 10 years. A few years ago John was appointed as XYZ company CEO.\n"
     ]
    }
   ],
   "source": [
    "import spacy\n",
    "import neuralcoref\n",
    "# !python -m spacy download en_core_web_sm\n",
    "\n",
    "\n",
    "nlp = spacy.load('en_core_web_sm')\n",
    "neuralcoref.add_to_pipe(nlp)\n",
    "doc1 = nlp('My sister has a dog. She loves him.')\n",
    "print(doc1._.coref_clusters)\n",
    "\n",
    "doc2 = nlp('John has been working for XYZ company for 10 years. A few years ago he was appointed as its CEO.')\n",
    "print(doc2._.coref_resolved)\n"
   ]
  },
  {
   "cell_type": "code",
   "execution_count": 3,
   "metadata": {},
   "outputs": [
    {
     "name": "stdout",
     "output_type": "stream",
     "text": [
      "7.482519674565238\n"
     ]
    }
   ],
   "source": [
    "import math\n",
    "# count PMI\n",
    "count_w1 = 4265\n",
    "count_w2 = 1353\n",
    "count_w1_w2 = 1032\n",
    "count_total = 1000000\n",
    "pmi = (count_w1_w2 / count_total) / ((count_w1 / count_total) * (count_w2 / count_total))\n",
    "pmi = math.log2(pmi)\n",
    "print(pmi)"
   ]
  },
  {
   "cell_type": "code",
   "execution_count": 5,
   "metadata": {},
   "outputs": [
    {
     "name": "stdout",
     "output_type": "stream",
     "text": [
      "0.8730271437422346\n"
     ]
    }
   ],
   "source": [
    "# count PPMI\n",
    "count_w1 = 210\n",
    "count_w2 = 260\n",
    "count_w1_w2 = 10\n",
    "count_total = 10000\n",
    "pmi = (count_w1_w2 / count_total) / ((count_w1 / count_total) * (count_w2 / count_total))\n",
    "pmi = math.log2(pmi)\n",
    "ppmi = max(0, pmi)\n",
    "print(ppmi)"
   ]
  },
  {
   "cell_type": "code",
   "execution_count": 4,
   "metadata": {},
   "outputs": [
    {
     "name": "stdout",
     "output_type": "stream",
     "text": [
      "6\n"
     ]
    }
   ],
   "source": [
    "# Q4\n",
    "# Given two words w1=\"cluster\" and w2=\"clipper\", calculate LCS edit distance\n",
    "\n",
    "def lcs(w1, w2):\n",
    "    dp = [[0 for _ in range(len(w2) + 1)] for _ in range(len(w1) + 1)]\n",
    "    for i in range(1, len(w1) + 1):\n",
    "        for j in range(1, len(w2) + 1):\n",
    "            if w1[i - 1] == w2[j - 1]:\n",
    "                dp[i][j] = dp[i - 1][j - 1] + 1\n",
    "            else:\n",
    "                dp[i][j] = max(dp[i - 1][j], dp[i][j - 1])\n",
    "    return len(w1) + len(w2) - 2 * dp[-1][-1]\n",
    "\n",
    "w1 = \"cluster\"\n",
    "w2 = \"clipper\"\n",
    "print(lcs(w1, w2))"
   ]
  },
  {
   "cell_type": "code",
   "execution_count": 6,
   "metadata": {},
   "outputs": [
    {
     "name": "stdout",
     "output_type": "stream",
     "text": [
      "1.79\n"
     ]
    }
   ],
   "source": [
    "import math\n",
    "\n",
    "count_and = 1\n",
    "count_again = 1\n",
    "count_and_again = 1\n",
    "count_total = 6\n",
    "\n",
    "pmi = (count_and_again / count_total) / ((count_and / count_total) * (count_again / count_total))\n",
    "pmi = math.log(pmi)  # use natural logarithm instead of log2\n",
    "\n",
    "# round to two digits after the decimal point\n",
    "pmi = round(pmi, 2)\n",
    "\n",
    "print(pmi)"
   ]
  },
  {
   "cell_type": "code",
   "execution_count": 8,
   "metadata": {},
   "outputs": [
    {
     "name": "stdout",
     "output_type": "stream",
     "text": [
      "0.88\n"
     ]
    }
   ],
   "source": [
    "beta = 1\n",
    "P = 0.9167\n",
    "R = 0.8462\n",
    "\n",
    "F = (1 + beta**2) * (P * R) / ((beta**2 * P) + R)\n",
    "F = round(F, 2)\n",
    "\n",
    "print(F)"
   ]
  }
 ],
 "metadata": {
  "kernelspec": {
   "display_name": "nlp",
   "language": "python",
   "name": "python3"
  },
  "language_info": {
   "codemirror_mode": {
    "name": "ipython",
    "version": 3
   },
   "file_extension": ".py",
   "mimetype": "text/x-python",
   "name": "python",
   "nbconvert_exporter": "python",
   "pygments_lexer": "ipython3",
   "version": "3.1.undefined"
  }
 },
 "nbformat": 4,
 "nbformat_minor": 2
}
