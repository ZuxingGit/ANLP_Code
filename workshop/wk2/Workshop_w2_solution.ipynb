{
 "cells": [
  {
   "cell_type": "markdown",
   "metadata": {},
   "source": [
    "<h1><center>Introduction to NLP</center></h1>"
   ]
  },
  {
   "cell_type": "markdown",
   "metadata": {},
   "source": [
    "1. NLP (Natural Language Processing) is a field of computer science and artificial intelligence that deals with the interaction between computers and human languages.\n",
    "2. Common use cases of NLP include text classification, sentiment analysis, language translation, and speech recognition.\n",
    "3. Important concepts in NLP include tokenization, stemming, stop words, and n-grams."
   ]
  },
  {
   "cell_type": "markdown",
   "metadata": {},
   "source": [
    "### Task 1: Review the below code\n",
    "\n",
    "You will use this or similar code in the exercise that follows"
   ]
  },
  {
   "cell_type": "markdown",
   "metadata": {},
   "source": [
    "#### Text Cleaning and Preprocessing"
   ]
  },
  {
   "cell_type": "markdown",
   "metadata": {},
   "source": [
    "Text Cleaning and Preprocessing: Techniques for preparing text data for analysis, including tokenization, stemming, and stop word removal."
   ]
  },
  {
   "cell_type": "code",
   "execution_count": 1,
   "metadata": {},
   "outputs": [
    {
     "name": "stdout",
     "output_type": "stream",
     "text": [
      "['NLP', 'is', 'a', 'field', 'of', 'computer', 'science', ',', 'and', 'artificial', 'intelligence']\n"
     ]
    }
   ],
   "source": [
    "# Tokenization is the process of breaking down a sentence into individual words or phrases.\n",
    "\n",
    "import nltk\n",
    "# nltk.download('punkt')\n",
    "from nltk.tokenize import word_tokenize\n",
    "\n",
    "text = \"NLP is a field of computer science, and artificial intelligence\"\n",
    "tokens = word_tokenize(text)\n",
    "print(tokens)"
   ]
  },
  {
   "cell_type": "code",
   "execution_count": 2,
   "metadata": {},
   "outputs": [
    {
     "name": "stdout",
     "output_type": "stream",
     "text": [
      "nlp is a field of computer science, and artificial intelligence\n"
     ]
    }
   ],
   "source": [
    "# Lowercasing: Converting all text to lowercase can make it easier to analyze the text and remove case-sensitive duplicates.\n",
    "text = \"NLP Is a Field of Computer Science, and Artificial Intelligence\"\n",
    "text = text.lower()\n",
    "print(text)"
   ]
  },
  {
   "cell_type": "code",
   "execution_count": 3,
   "metadata": {},
   "outputs": [
    {
     "name": "stdout",
     "output_type": "stream",
     "text": [
      "NLP Is a Field of Computer Science and Artificial Intelligence\n"
     ]
    }
   ],
   "source": [
    "# Removing Punctuation: Punctuation marks can add noise to the text and make it harder to analyze. Removing them can make the text easier to work with.\n",
    "\n",
    "import string\n",
    "\n",
    "text = \"NLP Is a Field of Computer Science, and Artificial Intelligence!\"\n",
    "text = text.translate(text.maketrans('', '', string.punctuation))\n",
    "print(text)\n",
    "# Output: \"NLP Is a Field of Computer Science and Artificial Intelligence\"\n"
   ]
  },
  {
   "cell_type": "code",
   "execution_count": 4,
   "metadata": {},
   "outputs": [
    {
     "name": "stdout",
     "output_type": "stream",
     "text": [
      "['NLP', 'field', 'computer', 'science', 'artificial', 'intelligence']\n"
     ]
    }
   ],
   "source": [
    "# Stop words are common words that are typically removed from text data before analysis.\n",
    "\n",
    "# nltk.download('stopwords')\n",
    "from nltk.corpus import stopwords\n",
    "\n",
    "stop_words = set(stopwords.words('english'))\n",
    "\n",
    "words = [\"NLP\", \"is\", \"a\", \"field\", \"of\", \"computer\", \"science\", \"and\", \"artificial\", \"intelligence\"]\n",
    "filtered_words = [word for word in words if word.lower() not in stop_words]\n",
    "print(filtered_words)"
   ]
  },
  {
   "cell_type": "code",
   "execution_count": 5,
   "metadata": {},
   "outputs": [
    {
     "name": "stdout",
     "output_type": "stream",
     "text": [
      "Original Text: The quick brown foxes are better than lazy dogs.\n",
      "Stemmed Text: the quick brown fox are better than lazi dogs.\n"
     ]
    }
   ],
   "source": [
    "# Stemming is the process of reducing a word to its root form.\n",
    "\n",
    "from nltk.stem import PorterStemmer\n",
    "\n",
    "stemmer = PorterStemmer()\n",
    "\n",
    "# Define a sample text\n",
    "text = \"The quick brown foxes are better than lazy dogs.\"\n",
    "tokens = text.split()\n",
    "\n",
    "stemmed_text = ' '.join([stemmer.stem(token) for token in tokens])\n",
    "print(\"Original Text:\", text)\n",
    "print(\"Stemmed Text:\", stemmed_text)"
   ]
  },
  {
   "cell_type": "code",
   "execution_count": 6,
   "metadata": {},
   "outputs": [
    {
     "name": "stdout",
     "output_type": "stream",
     "text": [
      "Original Text: The quick brown foxes are better than lazy dogs.\n",
      "Lemmatized Text: the quick brown fox be well than lazy dog .\n"
     ]
    }
   ],
   "source": [
    "#  Lematization\n",
    "# !pip install spacy\n",
    "# !python -m spacy download en_core_web_sm\n",
    "import spacy\n",
    " \n",
    "# Load the spaCy English model\n",
    "nlp = spacy.load('en_core_web_sm')\n",
    " \n",
    "# Define a sample text\n",
    "text = \"The quick brown foxes are better than lazy dogs.\"\n",
    " \n",
    "# Process the text using spaCy\n",
    "doc = nlp(text)\n",
    " \n",
    "# Extract lemmatized tokens\n",
    "lemmatized_tokens = [token.lemma_ for token in doc]\n",
    " \n",
    "# Join the lemmatized tokens into a sentence\n",
    "lemmatized_text = ' '.join(lemmatized_tokens)\n",
    " \n",
    "# Print the original and lemmatized text\n",
    "print(\"Original Text:\", text)\n",
    "print(\"Lemmatized Text:\", lemmatized_text)"
   ]
  },
  {
   "cell_type": "markdown",
   "metadata": {},
   "source": [
    "#### Exploratory Data Analysis\n",
    "\n",
    "Exploratory Data Analysis (EDA) is an important step in any NLP project. It helps to understand the characteristics of the data and identify any potential issues or patterns that may be relevant to the analysis. Here are some simple examples of EDA techniques that can be applied to text data"
   ]
  },
  {
   "cell_type": "code",
   "execution_count": 7,
   "metadata": {},
   "outputs": [
    {
     "data": {
      "image/png": "[encoded data removed]",
      "text/plain": [
       "<Figure size 2000x500 with 1 Axes>"
      ]
     },
     "metadata": {},
     "output_type": "display_data"
    }
   ],
   "source": [
    "# Word frequency plots are used to visualize the most common words in a dataset.\n",
    "\n",
    "from collections import Counter\n",
    "import matplotlib.pyplot as plt\n",
    "\n",
    "text = \"NLP is a field of computer science and artificial intelligence. NLP is a field of study that focuses on how computers can understand, interpret and generate human language\"\n",
    "tokens = word_tokenize(text)\n",
    "filtered_words = [word for word in tokens if word.lower() not in stop_words]\n",
    "\n",
    "word_freq = Counter(filtered_words)\n",
    "\n",
    "plt.figure(figsize=(20,5))\n",
    "plt.bar(word_freq.keys(), word_freq.values())\n",
    "plt.show()\n"
   ]
  },
  {
   "cell_type": "code",
   "execution_count": 8,
   "metadata": {},
   "outputs": [
    {
     "name": "stdout",
     "output_type": "stream",
     "text": [
      "Distribution of 3-grams:\n",
      "NLP is a: 2\n",
      "is a field: 2\n",
      "a field of: 2\n",
      "field of computer: 1\n",
      "of computer science: 1\n",
      "computer science and: 1\n",
      "science and artificial: 1\n",
      "and artificial intelligence: 1\n",
      "artificial intelligence .: 1\n",
      "intelligence . NLP: 1\n",
      ". NLP is: 1\n",
      "field of study: 1\n",
      "of study that: 1\n",
      "study that focuses: 1\n",
      "that focuses on: 1\n",
      "focuses on how: 1\n",
      "on how computers: 1\n",
      "how computers can: 1\n",
      "computers can understand: 1\n",
      "can understand ,: 1\n",
      "understand , interpret: 1\n",
      ", interpret and: 1\n",
      "interpret and generate: 1\n",
      "and generate human: 1\n",
      "generate human language: 1\n"
     ]
    },
    {
     "data": {
      "image/png": "[encoded data removed]",
      "text/plain": [
       "<Figure size 640x480 with 1 Axes>"
      ]
     },
     "metadata": {},
     "output_type": "display_data"
    }
   ],
   "source": [
    "# Identifying common N-grams: N-grams are sequences of words. Identifying common n-grams can give insight into the most common phrases in the dataset.\n",
    "\n",
    "import nltk\n",
    "from nltk import ngrams\n",
    "from collections import Counter\n",
    "import matplotlib.pyplot as plt\n",
    "\n",
    "# Sample text\n",
    "sample_text = \"NLP is a field of computer science and artificial intelligence. NLP is a field of study that focuses on how computers can understand, interpret and generate human language\"\n",
    "\n",
    "# Tokenize the text into words\n",
    "tokens = nltk.word_tokenize(sample_text)\n",
    "\n",
    "# Function to generate n-grams\n",
    "def generate_ngrams(text, n):\n",
    "    n_grams = ngrams(text, n)\n",
    "    return [' '.join(gram) for gram in n_grams]\n",
    "\n",
    "# Specify the value of n for n-grams\n",
    "n_value = 3  # You can change this value to see different n-grams, e.g., 2 for bigrams, 3 for trigrams, etc.\n",
    "\n",
    "# Generate n-grams\n",
    "ngrams_list = generate_ngrams(tokens, n_value)\n",
    "\n",
    "# Count the occurrences of each n-gram\n",
    "ngrams_count = Counter(ngrams_list)\n",
    "\n",
    "# Display the distribution\n",
    "print(f\"Distribution of {n_value}-grams:\")\n",
    "for ngram, count in ngrams_count.items():\n",
    "    print(f\"{ngram}: {count}\")\n",
    "\n",
    "# Plot the distribution\n",
    "labels, values = zip(*ngrams_count.items())\n",
    "indexes = range(len(labels))\n",
    "\n",
    "plt.bar(indexes, values)\n",
    "plt.xlabel(f'{n_value}-grams')\n",
    "plt.ylabel('Frequency')\n",
    "plt.xticks(indexes, labels, rotation='vertical')\n",
    "plt.title(f'Distribution of {n_value}-grams')\n",
    "plt.show()"
   ]
  },
  {
   "cell_type": "markdown",
   "metadata": {},
   "source": [
    "#### Feature Engineering\n",
    "\n",
    "Feature engineering is the process of creating useful features from raw text data that can be used as inputs for NLP models. \n"
   ]
  },
  {
   "cell_type": "code",
   "execution_count": 9,
   "metadata": {},
   "outputs": [
    {
     "name": "stdout",
     "output_type": "stream",
     "text": [
      "[[1 1 0 1 0 1 0 0 0 0 1 0 1 0 1 1 0 1 0 0 0]\n",
      " [1 0 1 0 1 1 1 1 1 1 0 1 1 1 1 1 1 0 1 1 1]]\n"
     ]
    }
   ],
   "source": [
    "# Bag-of-Words: Bag-of-Words (BoW) is a representation of text as a bag (multiset) of its words, disregarding grammar and even word order but keeping multiplicity. \n",
    "# It is one of the most common feature engineering techniques used in NLP.\n",
    "\n",
    "from sklearn.feature_extraction.text import CountVectorizer\n",
    "\n",
    "corpus = [\"NLP is a field of computer science and artificial intelligence\",\n",
    "          \"NLP is a field of study that focuses on how computers can understand, interpret and generate human language\"]\n",
    "\n",
    "vectorizer = CountVectorizer()\n",
    "bow = vectorizer.fit_transform(corpus)\n",
    "print(bow.toarray())\n"
   ]
  },
  {
   "cell_type": "code",
   "execution_count": 10,
   "metadata": {},
   "outputs": [
    {
     "name": "stdout",
     "output_type": "stream",
     "text": [
      "[[0.27840869 0.39129369 0.         0.39129369 0.         0.27840869\n",
      "  0.         0.         0.         0.         0.39129369 0.\n",
      "  0.27840869 0.         0.27840869 0.27840869 0.         0.39129369\n",
      "  0.         0.         0.        ]\n",
      " [0.18665039 0.         0.26233061 0.         0.26233061 0.18665039\n",
      "  0.26233061 0.26233061 0.26233061 0.26233061 0.         0.26233061\n",
      "  0.18665039 0.26233061 0.18665039 0.18665039 0.26233061 0.\n",
      "  0.26233061 0.26233061 0.26233061]]\n"
     ]
    }
   ],
   "source": [
    "# TF-IDF (Term Frequency-Inverse Document Frequency): This is a technique that weighs the words based on their importance in the document. \n",
    "# It is a way to convert the raw word counts into meaningful values by multiplying the word count with the inverse of the number of documents where the word is present.\n",
    "\n",
    "from sklearn.feature_extraction.text import TfidfVectorizer\n",
    "\n",
    "corpus = [\"NLP is a field of computer science and artificial intelligence\",\n",
    "          \"NLP is a field of study that focuses on how computers can understand, interpret and generate human language\"]\n",
    "\n",
    "vectorizer = TfidfVectorizer()\n",
    "tfidf = vectorizer.fit_transform(corpus)\n",
    "print(tfidf.toarray())\n"
   ]
  },
  {
   "cell_type": "code",
   "execution_count": 11,
   "metadata": {},
   "outputs": [
    {
     "name": "stdout",
     "output_type": "stream",
     "text": [
      "[[1 0 1 0 1 0 1 0 0 0 0 0 1 1 1 0 0 1 0 0 0]\n",
      " [0 1 0 1 0 1 1 1 1 1 1 1 1 1 0 1 1 0 1 1 1]]\n"
     ]
    }
   ],
   "source": [
    "#  N-Grams are sequences of words. Identifying common n-grams can give insight into the most common phrases in the dataset.\n",
    "\n",
    "from sklearn.feature_extraction.text import CountVectorizer\n",
    "\n",
    "corpus = [\"NLP is a field of computer science and artificial intelligence\",\n",
    "          \"NLP is a field of study that focuses on how computers can understand, interpret and generate human language\"]\n",
    "\n",
    "vectorizer = CountVectorizer(ngram_range=(2,2))\n",
    "ngrams = vectorizer.fit_transform(corpus)\n",
    "print(ngrams.toarray())\n"
   ]
  },
  {
   "cell_type": "code",
   "execution_count": 12,
   "metadata": {},
   "outputs": [
    {
     "name": "stdout",
     "output_type": "stream",
     "text": [
      "[-5.4281042e-04  2.4095914e-04  5.1026721e-03  9.0126209e-03\n",
      " -9.3078930e-03 -7.1173883e-03  6.4583835e-03  8.9752581e-03\n",
      " -5.0195586e-03 -3.7619984e-03  7.3753442e-03 -1.5361811e-03\n",
      " -4.5454749e-03  6.5581338e-03 -4.8641455e-03 -1.8144455e-03\n",
      "  2.8755362e-03  9.9468976e-04 -8.2854927e-03 -9.4563030e-03\n",
      "  7.3152836e-03  5.0750202e-03  6.7604459e-03  7.6790544e-04\n",
      "  6.3474020e-03 -3.3987791e-03 -9.4915513e-04  5.7653580e-03\n",
      " -7.5242254e-03 -3.9345538e-03 -7.5099370e-03 -9.3427731e-04\n",
      "  9.5442599e-03 -7.3245829e-03 -2.3336951e-03 -1.9331368e-03\n",
      "  8.0781439e-03 -5.9320750e-03  3.9558799e-05 -4.7552190e-03\n",
      " -9.5996540e-03  5.0026518e-03 -8.7660616e-03 -4.3811630e-03\n",
      " -3.0819298e-05 -2.9663555e-04 -7.6683164e-03  9.6084382e-03\n",
      "  4.9903216e-03  9.2295147e-03 -8.1634624e-03  4.4921511e-03\n",
      " -4.1347388e-03  8.2715927e-04  8.4991921e-03 -4.4576772e-03\n",
      "  4.5211408e-03 -6.7940247e-03 -3.5462519e-03  9.4024558e-03\n",
      " -1.5733168e-03  3.1845146e-04 -4.1401568e-03 -7.6821316e-03\n",
      " -1.5029169e-03  2.4710342e-03 -8.8834739e-04  5.5426760e-03\n",
      " -2.7421426e-03  2.2644335e-03  5.4517766e-03  8.3499895e-03\n",
      " -1.4530235e-03 -9.2104515e-03  4.3762866e-03  5.7782565e-04\n",
      "  7.4444562e-03 -8.0951629e-04 -2.6334932e-03 -8.7629044e-03\n",
      " -8.6352660e-04  2.8195893e-03  5.4036835e-03  7.0527876e-03\n",
      " -5.7072872e-03  1.8585182e-03  6.0903383e-03 -4.8011732e-03\n",
      " -3.1099205e-03  6.7942841e-03  1.6369910e-03  1.9439332e-04\n",
      "  3.4729997e-03  2.1738780e-04  9.6129561e-03  5.0590783e-03\n",
      " -8.9171939e-03 -7.0373407e-03  9.0144249e-04  6.4042537e-03]\n"
     ]
    }
   ],
   "source": [
    "# Word embeddings are dense vector representations of words. \n",
    "# They capture the meaning and context of words in a way that allows them to be used as input for machine learning models.\n",
    "# !pip install gensim\n",
    "import gensim\n",
    "from gensim.models import Word2Vec\n",
    "\n",
    "sentences = [[\"NLP\", \"is\", \"a\", \"field\", \"of\", \"computer\", \"science\", \"and\", \"artificial\", \"intelligence\"],\n",
    "             [\"NLP\", \"is\", \"a\", \"field\", \"of\", \"study\", \"that\", \"focuses\", \"on\", \"how\", \"computers\", \"can\", \"understand\", \"interpret\", \"and\", \"generate\", \"human\", \"language\"]]\n",
    "\n",
    "model = Word2Vec(sentences, min_count=1)\n",
    "print(model.wv[\"NLP\"])\n"
   ]
  },
  {
   "cell_type": "markdown",
   "metadata": {},
   "source": [
    "#### Modelling with supervised models"
   ]
  },
  {
   "cell_type": "markdown",
   "metadata": {},
   "source": [
    "\n",
    "These models are trained using labeled data, where the target variable (or output) is known. \n",
    "Common supervised models include text classification and Name Entity Recognition (NER).\n",
    "\n",
    "Text classification: This is a model that is trained to classify text into one or more predefined categories. Example: classifying movie reviews as positive or negative."
   ]
  },
  {
   "cell_type": "code",
   "execution_count": 13,
   "metadata": {},
   "outputs": [
    {
     "name": "stdout",
     "output_type": "stream",
     "text": [
      "['positive' 'positive']\n",
      "Accuracy:  0.5\n"
     ]
    }
   ],
   "source": [
    "## Text Classification Example\n",
    "\n",
    "from sklearn.feature_extraction.text import CountVectorizer\n",
    "from sklearn.naive_bayes import MultinomialNB\n",
    "from sklearn.metrics import accuracy_score\n",
    "\n",
    "# dataset\n",
    "X_train = [\"I watched a good movie\", \"This movie is terrible\", \"The movie was average\", \"I liked the movie\"]\n",
    "y_train = [\"positive\", \"negative\", \"neutral\", \"positive\"]\n",
    "X_test = [\"The movie was good\", \"I did not like the movie\"]\n",
    "y_test = [\"positive\", \"negative\"]\n",
    "\n",
    "# feature extraction\n",
    "vectorizer = CountVectorizer()\n",
    "X_train = vectorizer.fit_transform(X_train)\n",
    "X_test = vectorizer.transform(X_test)\n",
    "\n",
    "# model training\n",
    "clf = MultinomialNB()\n",
    "clf.fit(X_train, y_train)\n",
    "\n",
    "# model prediction\n",
    "y_pred = clf.predict(X_test)\n",
    "print(y_pred)\n",
    "print(\"Accuracy: \", accuracy_score(y_test, y_pred))\n"
   ]
  },
  {
   "cell_type": "markdown",
   "metadata": {},
   "source": [
    "**Notice that a sentence with \"like\" and \"did not like\" are both positive!**\n",
    "\n",
    "What can be done to classify this sentence as negative?"
   ]
  },
  {
   "cell_type": "markdown",
   "metadata": {},
   "source": [
    "#### Sentimental Analysis"
   ]
  },
  {
   "cell_type": "markdown",
   "metadata": {},
   "source": [
    "Sentiment Analysis is a field of Natural Language Processing (NLP) that deals with determining the sentiment or emotion expressed in a piece of text. The task involves classifying a given text as positive, negative or neutral, based on the sentiment it conveys.\n",
    "\n",
    "For example, consider a toy dataset with a few comments or statements about a product:\n",
    "\n",
    "    \"This product is amazing! I highly recommend it.\"\n",
    "    \"I was really disappointed with this product.\"\n",
    "    \"It's okay, but I've had better.\"\n",
    "    \"I can't say if it's good or bad, it's just average.\""
   ]
  },
  {
   "cell_type": "markdown",
   "metadata": {},
   "source": [
    "A sentiment analysis model can be trained on this dataset to predict the sentiment of each statement. The first statement would be classified as positive, the second as negative, the third as neutral, and the fourth as neutral.\n",
    "\n",
    "The model is trained using labeled data and machine learning algorithms, such as logistic regression or recurrent neural networks. These algorithms learn patterns in the data and use that information to make predictions on new, unseen data.\n",
    "\n",
    "Sentiment Analysis has a wide range of applications, such as in customer feedback analysis, market research, and social media monitoring. It can help businesses understand their customers' opinions, track brand reputation, and monitor the public's response to events.\n",
    "\n",
    "\n",
    "Here is an example of sentiment classification using VADER lexicon and utility."
   ]
  },
  {
   "cell_type": "code",
   "execution_count": 14,
   "metadata": {
    "scrolled": true
   },
   "outputs": [
    {
     "name": "stdout",
     "output_type": "stream",
     "text": [
      "Positive\n"
     ]
    }
   ],
   "source": [
    "# Importing required libraries\n",
    "import nltk\n",
    "from nltk.sentiment import SentimentIntensityAnalyzer\n",
    "\n",
    "# Downloading required resources\n",
    "# nltk.download(\"vader_lexicon\")\n",
    "\n",
    "# Initializing the SentimentIntensityAnalyzer\n",
    "sia = SentimentIntensityAnalyzer()\n",
    "\n",
    "# Defining a function to get the sentiment score\n",
    "def get_sentiment(text):\n",
    "    sentiment_score = sia.polarity_scores(text)\n",
    "    return sentiment_score[\"compound\"]\n",
    "\n",
    "# Testing the model on a sample text\n",
    "text = \"This product is amazing! I highly recommend it.\"\n",
    "sentiment = get_sentiment(text)\n",
    "if sentiment > 0:\n",
    "    print(\"Positive\")\n",
    "elif sentiment == 0:\n",
    "    print(\"Neutral\")\n",
    "else:\n",
    "    print(\"Negative\")\n"
   ]
  },
  {
   "cell_type": "markdown",
   "metadata": {},
   "source": [
    "As you can see, VADER does not need training, it is an unsupervised method, and it can classify a sentence quite well. \n",
    "\n",
    "But is is better than more complex supervised classifiers? You will answer this question in your Assignment 1"
   ]
  },
  {
   "cell_type": "markdown",
   "metadata": {},
   "source": [
    "### Task 2: Complete the code\n",
    "\n",
    "\n",
    "Start with tweets_small.tsv dataset. When your code is working, then switch to tweets1.tsv, which will take longer to process."
   ]
  },
  {
   "cell_type": "code",
   "execution_count": 15,
   "metadata": {
    "scrolled": true
   },
   "outputs": [
    {
     "ename": "NameError",
     "evalue": "name 'sns' is not defined",
     "output_type": "error",
     "traceback": [
      "\u001b[0;31m---------------------------------------------------------------------------\u001b[0m",
      "\u001b[0;31mNameError\u001b[0m                                 Traceback (most recent call last)",
      "Cell \u001b[0;32mIn[15], line 51\u001b[0m\n\u001b[1;32m     48\u001b[0m data[\u001b[38;5;124m\"\u001b[39m\u001b[38;5;124mclean_text\u001b[39m\u001b[38;5;124m\"\u001b[39m] \u001b[38;5;241m=\u001b[39m data[\u001b[38;5;124m\"\u001b[39m\u001b[38;5;124mtext\u001b[39m\u001b[38;5;124m\"\u001b[39m]\u001b[38;5;241m.\u001b[39mapply(clean_text)\n\u001b[1;32m     50\u001b[0m \u001b[38;5;66;03m# Display distribution of sentiments\u001b[39;00m\n\u001b[0;32m---> 51\u001b[0m \u001b[43msns\u001b[49m\u001b[38;5;241m.\u001b[39mcountplot(x\u001b[38;5;241m=\u001b[39m\u001b[38;5;124m'\u001b[39m\u001b[38;5;124msentiment\u001b[39m\u001b[38;5;124m'\u001b[39m, data\u001b[38;5;241m=\u001b[39mdata)\n\u001b[1;32m     52\u001b[0m plt\u001b[38;5;241m.\u001b[39mtitle(\u001b[38;5;124m'\u001b[39m\u001b[38;5;124mDistribution of Sentiments\u001b[39m\u001b[38;5;124m'\u001b[39m)\n\u001b[1;32m     53\u001b[0m plt\u001b[38;5;241m.\u001b[39mshow()\n",
      "\u001b[0;31mNameError\u001b[0m: name 'sns' is not defined"
     ]
    }
   ],
   "source": [
    "# Import libraries\n",
    "import pandas as pd\n",
    "import numpy as np\n",
    "from sklearn.feature_extraction.text import TfidfVectorizer, CountVectorizer\n",
    "from sklearn.naive_bayes import MultinomialNB\n",
    "from sklearn.svm import SVC\n",
    "from sklearn.metrics import accuracy_score, f1_score, classification_report\n",
    "from sklearn.model_selection import train_test_split\n",
    "import nltk\n",
    "from nltk.probability import FreqDist\n",
    "from nltk.tokenize import word_tokenize\n",
    "import regex as re\n",
    "\n",
    "import spacy\n",
    "# Load the spaCy English model\n",
    "nlp = spacy.load('en_core_web_sm')\n",
    "\n",
    "\n",
    "# Load the dataset\n",
    "data = pd.read_csv(\"tweets_small.tsv\", encoding=\"ISO-8859-1\", delimiter=\"\\t\", header=None)\n",
    "# data = pd.read_csv(\"tweets1.tsv\", encoding=\"ISO-8859-1\", delimiter=\"\\t\", header=None)\n",
    "data.columns = [\"text\", \"sentiment\"]\n",
    "\n",
    "def clean_text(text):\n",
    "    # Remove urls\n",
    "    text = re.sub(r\"http\\S+\", \"\", text)\n",
    "    # Remove '@' character\n",
    "    text = re.sub(r'@', '', text)\n",
    "    # Remove non-ASCII characters\n",
    "    text = ''.join([char for char in text if ord(char) < 128])\n",
    "    \n",
    "    # Tokenize the text\n",
    "    tokens = word_tokenize(text)\n",
    "    \n",
    "    # Remove stopwords and punctuation\n",
    "    stop_words = stopwords.words(\"english\") + list(string.punctuation)\n",
    "    tokens = [token for token in tokens if token not in stop_words]\n",
    "    text1 = \" \".join(tokens)\n",
    "\n",
    "    # Lemmatize the tokens\n",
    "    doc = nlp(text1)\n",
    "    tokens = [token.lemma_ for token in doc]\n",
    "    \n",
    "    # Return the cleaned text as a string\n",
    "    return \" \".join(tokens)\n",
    "\n",
    "# Apply the function to the text column\n",
    "data[\"clean_text\"] = data[\"text\"].apply(clean_text)\n",
    "\n",
    "# Display distribution of sentiments\n",
    "sns.countplot(x='sentiment', data=data)\n",
    "plt.title('Distribution of Sentiments')\n",
    "plt.show()\n",
    "\n",
    "# Analyze the distribution of tweet lengths\n",
    "data['tweet_length'] = data['clean_text'].apply(lambda x: len(x.split()))\n",
    "sns.histplot(data['tweet_length'], bins=20, kde=True)\n",
    "plt.title('Distribution of Tweet Lengths')\n",
    "plt.xlabel('Tweet Length')\n",
    "plt.show()\n",
    "\n",
    "# Function to get word frequencies for a given sentiment\n",
    "def get_word_frequencies(sentiment):\n",
    "    sentiment_text = ' '.join(data[data['sentiment'] == sentiment]['clean_text'])\n",
    "    tokens = word_tokenize(sentiment_text)\n",
    "    fdist = FreqDist(tokens)\n",
    "    return fdist\n",
    "\n",
    "# Plot word frequencies for positive sentiment\n",
    "positive_frequencies = get_word_frequencies(1)\n",
    "# plt.figure(figsize=(12, 6))\n",
    "plt.title('Word Frequencies for Positive Sentiments')\n",
    "positive_frequencies.plot(30, cumulative=False)\n",
    "# plt.show()\n",
    "\n",
    "# Plot word frequencies for negative sentiment\n",
    "negative_frequencies = get_word_frequencies(0)\n",
    "# plt.figure(figsize=(12, 6))\n",
    "plt.title('Word Frequencies for Negative Sentiments')\n",
    "negative_frequencies.plot(30, cumulative=False)\n",
    "# plt.show()\n",
    "\n",
    "# Split the data into train and test sets\n",
    "X_train, X_test, y_train, y_test = train_test_split(data[\"clean_text\"], data[\"sentiment\"], test_size=0.3, random_state=42)\n",
    "\n",
    "# Vectorize the text using TF-IDF default parameters\n",
    "vectorizer = TfidfVectorizer()\n",
    "# vectorizer = CountVectorizer(lowercase=True, token_pattern='[a-zA-Z0-9@#$%_]{2,}', \\\n",
    "#                                  max_features=None)\n",
    "X_train = vectorizer.fit_transform(X_train)\n",
    "X_test = vectorizer.transform(X_test)\n",
    "\n",
    "# Train a Multinomial Naive Bayes classifier default parameters\n",
    "mnb = MultinomialNB()\n",
    "mnb.fit(X_train, y_train)\n",
    "\n",
    "# Train a SVM classifier kernel and C=1\n",
    "svm = SVC(kernel=\"linear\", C=1)\n",
    "svm.fit(X_train, y_train)\n",
    "\n",
    "# Evaluate the models on the test set\n",
    "y_pred_mnb = mnb.predict(X_test)\n",
    "y_pred_svm = svm.predict(X_test)\n",
    "\n",
    "print(\"Multinomial Naive Bayes:\")\n",
    "print(\"Accuracy:\", accuracy_score(y_test, y_pred_mnb))\n",
    "print(\"F1 score:\", f1_score(y_test, y_pred_mnb))\n",
    "print(classification_report(y_test, y_pred_mnb))\n",
    "\n",
    "print(\"SVM:\")\n",
    "print(\"Accuracy:\", accuracy_score(y_test, y_pred_svm))\n",
    "print(\"F1 score:\", f1_score(y_test, y_pred_svm))\n",
    "print(classification_report(y_test, y_pred_svm))\n"
   ]
  },
  {
   "cell_type": "markdown",
   "metadata": {},
   "source": [
    "In followng exercise you will experiment with unsupervised learning of sentiment. \n",
    "\n",
    "Since you know that there are two classes, positive and negative, you can set the number of clusters to 2.\n",
    "\n",
    "You will use two types of text representation: TF-IDF. and WordVectors. Implement both and see which one does better (using Silhouette score).\n",
    "\n",
    "Why do you think one is better than the other?"
   ]
  },
  {
   "cell_type": "code",
   "execution_count": null,
   "metadata": {
    "scrolled": true
   },
   "outputs": [
    {
     "name": "stderr",
     "output_type": "stream",
     "text": [
      "C:\\Users\\a1231060\\AppData\\Local\\anaconda3\\Lib\\site-packages\\sklearn\\cluster\\_kmeans.py:1412: FutureWarning: The default value of `n_init` will change from 10 to 'auto' in 1.4. Set the value of `n_init` explicitly to suppress the warning\n",
      "  super()._check_params_vs_input(X, default_n_init=10)\n"
     ]
    },
    {
     "name": "stdout",
     "output_type": "stream",
     "text": [
      "Silhouette score for TF-IDF:  0.005961508146163468\n"
     ]
    },
    {
     "name": "stderr",
     "output_type": "stream",
     "text": [
      "C:\\Users\\a1231060\\AppData\\Local\\anaconda3\\Lib\\site-packages\\sklearn\\cluster\\_kmeans.py:1412: FutureWarning: The default value of `n_init` will change from 10 to 'auto' in 1.4. Set the value of `n_init` explicitly to suppress the warning\n",
      "  super()._check_params_vs_input(X, default_n_init=10)\n"
     ]
    },
    {
     "name": "stdout",
     "output_type": "stream",
     "text": [
      "Silhouette score for WordVectors:  0.90085\n"
     ]
    }
   ],
   "source": [
    "# text clustering\n",
    "\n",
    "from sklearn.feature_extraction.text import TfidfVectorizer\n",
    "from sklearn.cluster import KMeans\n",
    "import numpy as np\n",
    "from sklearn import metrics\n",
    "import gensim\n",
    "from gensim.models import Word2Vec\n",
    "\n",
    "\n",
    "# dataset\n",
    "text_list = data[\"clean_text\"]\n",
    "\n",
    "# feature extraction\n",
    "vectorizer = TfidfVectorizer()\n",
    "X = vectorizer.fit_transform(text_list)\n",
    "\n",
    "# model training\n",
    "kmeans = KMeans(n_clusters=2)\n",
    "kmeans.fit(X)\n",
    "\n",
    "# cluster assignments\n",
    "clusters = kmeans.labels_\n",
    "\n",
    "score = metrics.silhouette_score(X, clusters, metric='euclidean')\n",
    "print(\"Silhouette score for TF-IDF: \",score)\n",
    "\n",
    "\n",
    "tokens = [sentence.split() for sentence in text_list]\n",
    "model = Word2Vec(tokens, min_count=1)\n",
    "vectors = model.wv.vectors\n",
    "vectors.shape\n",
    "\n",
    "# # model training\n",
    "kmeans = KMeans(n_clusters=2)\n",
    "kmeans.fit(vectors)\n",
    "# cluster assignments\n",
    "clusters = kmeans.labels_\n",
    "score = metrics.silhouette_score(vectors, clusters, metric='euclidean')\n",
    "print(\"Silhouette score for WordVectors: \",score)\n",
    "# print(\"cluster centres: \", kmeans.cluster_centers_)"
   ]
  }
 ],
 "metadata": {
  "kernelspec": {
   "display_name": "Python 3 (ipykernel)",
   "language": "python",
   "name": "python3"
  },
  "language_info": {
   "codemirror_mode": {
    "name": "ipython",
    "version": 3
   },
   "file_extension": ".py",
   "mimetype": "text/x-python",
   "name": "python",
   "nbconvert_exporter": "python",
   "pygments_lexer": "ipython3",
   "version": "3.9.18"
  },
  "vscode": {
   "interpreter": {
    "hash": "957e73fbdacff42aadf8c40baf5b66edb7e1c8efd15eaad2479fa1452a07e511"
   }
  }
 },
 "nbformat": 4,
 "nbformat_minor": 2
}
